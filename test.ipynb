{
 "cells": [
  {
   "cell_type": "code",
   "execution_count": 243,
   "metadata": {
    "collapsed": true
   },
   "outputs": [],
   "source": [
    "import numpy as np\n",
    "import pandas as pd\n",
    "from scipy.optimize import minimize\n",
    "from scipy.spatial.distance import pdist\n",
    "from scipy.spatial.distance import squareform # distance.euclidean(a,b)\n",
    "import tensorflow as tf"
   ]
  },
  {
   "cell_type": "code",
   "execution_count": 244,
   "metadata": {
    "collapsed": false
   },
   "outputs": [
    {
     "data": {
      "text/plain": [
       "Index(['Comment', 'Member ID', 'Member Nickname', 'Rating',\n",
       "       'Restaurant Address', 'Restaurant ID', 'Restaurant Latitude',\n",
       "       'Restaurant Longitude', 'Restaurant Name', 'Time'],\n",
       "      dtype='object')"
      ]
     },
     "execution_count": 244,
     "metadata": {},
     "output_type": "execute_result"
    }
   ],
   "source": [
    "df = pd.read_csv('data/대전시.csv', sep='\\t', index_col=False)\n",
    "df.columns"
   ]
  },
  {
   "cell_type": "code",
   "execution_count": 245,
   "metadata": {
    "collapsed": false
   },
   "outputs": [
    {
     "name": "stdout",
     "output_type": "stream",
     "text": [
      "1153 852 5\n"
     ]
    }
   ],
   "source": [
    "# N = number of users\n",
    "# I = number of locations\n",
    "# Z = number of topic, we choose.\n",
    "N = len(df['Member ID'].unique())\n",
    "I = len(df['Restaurant ID'].unique())\n",
    "Z = 5\n",
    "print(N, I, Z)"
   ]
  },
  {
   "cell_type": "code",
   "execution_count": 246,
   "metadata": {
    "collapsed": true
   },
   "outputs": [],
   "source": [
    "def initialize(N, Z, I):\n",
    "    theta = np.random.rand(N, Z)\n",
    "    col_sum = theta.sum(axis=0)\n",
    "    theta = theta / col_sum\n",
    "    \n",
    "    phi = np.random.rand(Z, I)\n",
    "    return [theta, phi]"
   ]
  },
  {
   "cell_type": "code",
   "execution_count": 247,
   "metadata": {
    "collapsed": false
   },
   "outputs": [
    {
     "name": "stdout",
     "output_type": "stream",
     "text": [
      "(1153, 5)\n",
      "(5, 852)\n"
     ]
    }
   ],
   "source": [
    "psi = initialize(N, Z, I)\n",
    "theta = psi[0]; phi = psi[1]\n",
    "print(theta.shape)\n",
    "print(phi.shape)"
   ]
  },
  {
   "cell_type": "code",
   "execution_count": 248,
   "metadata": {
    "collapsed": true
   },
   "outputs": [],
   "source": [
    "def getDist(beta, location):\n",
    "    I = len(location)\n",
    "    L = np.array([[x[1], x[2]] for x in location])\n",
    "    dist = squareform(pdist(np.exp(-0.5*beta*L)))\n",
    "    loc_id = np.array([x[0] for x in location])\n",
    "    res = pd.DataFrame(dist, columns=loc_id, index=loc_id)\n",
    "    return res"
   ]
  },
  {
   "cell_type": "code",
   "execution_count": 249,
   "metadata": {
    "collapsed": false
   },
   "outputs": [
    {
     "name": "stdout",
     "output_type": "stream",
     "text": [
      "(852, 852)\n"
     ]
    }
   ],
   "source": [
    "# location distance calculation\n",
    "# using getDist function\n",
    "# the index and column of the getDist output: Restaurant ID\n",
    "beta = 0.5\n",
    "df_loc = df[['Restaurant ID', 'Restaurant Latitude', 'Restaurant Longitude']]\n",
    "location = sorted(list(set([tuple(x) for x in df_loc.to_records(index=False)])))\n",
    "df_dist = getDist(beta, location)\n",
    "print(df_dist.shape)"
   ]
  },
  {
   "cell_type": "code",
   "execution_count": 250,
   "metadata": {
    "collapsed": false
   },
   "outputs": [],
   "source": [
    "# make x_um. x_um: dictionary. \n",
    "# key: user ID, value: list containing the restaurant ID that user visited\n",
    "df2 = df.sort_values('Member ID')\n",
    "df_user = df2[['Member ID', 'Restaurant ID']]\n",
    "# 만약에 한 유저가 한 가게에 두번 방문해서 두번 리뷰를 남긴 걸 무시하고 싶으면 list 전에 set 씌울 것\n",
    "x_um = {}\n",
    "for index, row in df_user.iterrows():\n",
    "    if row['Member ID'] not in x_um:\n",
    "        x_um[row['Member ID']] = [row['Restaurant ID']]\n",
    "    else:\n",
    "        x_um[row['Member ID']].append(row['Restaurant ID'])"
   ]
  },
  {
   "cell_type": "code",
   "execution_count": 251,
   "metadata": {
    "collapsed": false
   },
   "outputs": [
    {
     "name": "stdout",
     "output_type": "stream",
     "text": [
      "[16922, 16912]\n",
      "              16922         16912\n",
      "16922  0.000000e+00  2.242773e-09\n",
      "16912  2.242773e-09  0.000000e+00\n",
      "16922    2.242773e-09\n",
      "16912    2.242773e-09\n",
      "dtype: float64\n",
      "     16835     16836     16837     16838     16841     16843     16845   \\\n",
      "0  1.273405  2.304468  1.307277  1.796477  1.390040  1.452742  1.620620   \n",
      "1  1.443135  1.062552  1.424344  1.657316  1.086140  1.654399  1.069540   \n",
      "2  1.526686  1.069106  1.159535  1.974262  1.435548  2.507787  2.141534   \n",
      "3  1.857135  2.206482  1.409781  1.553539  1.031233  1.829043  1.268479   \n",
      "4  1.598145  1.590848  1.696139  1.521148  2.175894  1.426466  2.073625   \n",
      "\n",
      "     16847     16848     16852     ...       325525    325566    327787  \\\n",
      "0  1.177861  2.006295  1.823291    ...     2.011964  2.176126  1.371892   \n",
      "1  1.889244  2.645781  1.513704    ...     1.717100  1.226050  1.109749   \n",
      "2  1.976692  1.356787  1.146819    ...     1.007207  1.198435  1.409810   \n",
      "3  1.513087  2.661030  2.517812    ...     1.562501  1.433402  2.493647   \n",
      "4  1.098060  1.222962  1.714986    ...     2.140286  1.047463  1.684201   \n",
      "\n",
      "     328309    328379    328381    328454    328584    328638    328804  \n",
      "0  1.531049  1.519330  2.654539  1.303120  1.257112  1.084305  1.784790  \n",
      "1  2.328398  1.756421  2.239745  1.516138  1.606725  1.244819  1.110878  \n",
      "2  2.027214  1.445903  1.693758  1.846065  1.786618  1.037117  1.247939  \n",
      "3  1.579749  1.077552  1.788941  1.115131  1.359346  2.272095  2.546557  \n",
      "4  1.232693  1.367240  1.325399  2.595573  2.409967  1.386736  1.341300  \n",
      "\n",
      "[5 rows x 852 columns]\n",
      "      16922     16912\n",
      "0  1.697271  1.574486\n",
      "1  2.114107  2.366205\n",
      "2  1.412666  1.293240\n",
      "3  1.831364  2.442012\n",
      "4  1.388498  1.524970\n",
      "RESULT\n",
      "          16922         16912\n",
      "0  3.806593e-09  3.531215e-09\n",
      "1  4.741460e-09  5.306860e-09\n",
      "2  3.168288e-09  2.900443e-09\n",
      "3  4.107333e-09  5.476878e-09\n",
      "4  3.114086e-09  3.420161e-09\n"
     ]
    }
   ],
   "source": [
    "# Use equation (2) P(i|z, R_u, phi)\n",
    "# the i is x_um here.\n",
    "# So, in M.py, this part is the test of p_i function\n",
    "test = x_um[359]\n",
    "print(test)\n",
    "userdist = df_dist.loc[test, test]\n",
    "userdistSum = userdist.sum(axis=1)\n",
    "print(userdist)\n",
    "print(userdistSum)\n",
    "\n",
    "loc_id = np.array([x[0] for x in location])\n",
    "phi = np.exp(phi)\n",
    "phi = pd.DataFrame(phi, columns=loc_id)\n",
    "print(phi)\n",
    "user_phi = phi.loc[:, test]\n",
    "print(user_phi)\n",
    "Px_um = user_phi * userdistSum\n",
    "print(\"RESULT\")\n",
    "print(Px_um)\n",
    "\n",
    "# calculate P(x_um|z, R_u, phi)"
   ]
  },
  {
   "cell_type": "code",
   "execution_count": 252,
   "metadata": {
    "collapsed": false
   },
   "outputs": [],
   "source": [
    "# E-step, calculate P(z|u, m; \\hat{psi}) (posterior)\n",
    "mem_id = df_user['Member ID'].unique()\n",
    "theta = pd.DataFrame(theta, index=mem_id)\n",
    "\n",
    "# theta_uz => theta_(x_um)z\n",
    "# Select theta for user u\n",
    "theta_user = theta.loc[359].as_matrix()\n",
    "Px_um = Px_um.as_matrix()\n",
    "theta_user = theta_user.reshape(1, -1)\n",
    "res = theta_user.T * Px_um"
   ]
  },
  {
   "cell_type": "code",
   "execution_count": 256,
   "metadata": {
    "collapsed": false
   },
   "outputs": [
    {
     "name": "stdout",
     "output_type": "stream",
     "text": [
      "[[  2.65409231e-12   2.46208886e-12]\n",
      " [  2.72606160e-12   3.05113320e-12]\n",
      " [  8.06853240e-13   7.38642431e-13]\n",
      " [  1.28748518e-13   1.71678293e-13]\n",
      " [  7.99455225e-14   8.78031505e-14]]\n",
      "[  6.39570119e-12   6.51134593e-12]\n",
      "[[ 0.41498066  0.37812288]\n",
      " [ 0.42623342  0.46858718]\n",
      " [ 0.12615556  0.11343929]\n",
      " [ 0.02013048  0.02636602]\n",
      " [ 0.01249988  0.01348464]]\n"
     ]
    }
   ],
   "source": [
    "print(res)\n",
    "sumRes = res.sum(axis=0)\n",
    "print(sumRes)\n",
    "posterior = res / sumRes\n",
    "print(posterior)"
   ]
  },
  {
   "cell_type": "code",
   "execution_count": 259,
   "metadata": {
    "collapsed": false
   },
   "outputs": [
    {
     "name": "stdout",
     "output_type": "stream",
     "text": [
      "[ 0.79310354  0.8948206   0.23959484  0.0464965   0.02598452]\n",
      "2.0\n",
      "[ 0.39655177  0.4474103   0.11979742  0.02324825  0.01299226]\n"
     ]
    }
   ],
   "source": [
    "# optimize theta_uz \n",
    "# This test is for user 359. Not whole user\n",
    "\n",
    "theta_hat_numer = posterior.sum(axis=1)\n",
    "print(theta_hat_numer)\n",
    "theta_hat_denom = theta_hat_numer.sum()\n",
    "print(theta_hat_denom)\n",
    "theta_hat = theta_hat_numer / theta_hat_denom\n",
    "print(theta_hat)"
   ]
  },
  {
   "cell_type": "code",
   "execution_count": 269,
   "metadata": {
    "collapsed": false
   },
   "outputs": [],
   "source": [
    "#df_user\n",
    "#location = sorted(list(set([tuple(x) for x in df_loc.to_records(index=False)])))\n",
    "indices = [list(x) for x in df_user.to_records(index=False)]\n",
    "Indices = tf.SparseTensor(indices=indices, values=tf.ones(len(indices), dtype=tf.float64), dense_shape=[N, I])\n",
    "P_hat = tf.placeholder(tf.float64, shape=[Z, N, I])\n",
    "Theta = tf.placeholder(tf.float64, shape=[N, Z])\n",
    "Phi = tf.placeholder(tf.float64, shape=[Z, I])\n",
    "dist = tf.placeholder(tf.float64, shape=[I, I])\n",
    "\n",
    "front = tf.exp(Phi)\n",
    "back = tf.sparse_tensor_dense_matmul(Indices, dist)\n",
    "P_numer = tf.expand_dims(front, axis=1) * back\n",
    "P_denom = tf.expand_dims(tf.reduce_sum(P_numer, axis=2), axis=2)\n",
    "P = P_numer / P_denom\n",
    "log_Theta = tf.expand_dims(tf.transpose(tf.log(Theta)), axis=2)\n",
    "loglike = P_hat * log_Theta * P\n",
    "Q = tf.reduce_sum(tf.sparse_tensor_dense_matmul(Indices, tf.transpose(tf.reshape(loglike, [-1, I]))))\n",
    "Phi_grad = tf.gradients(Q, Phi)"
   ]
  },
  {
   "cell_type": "code",
   "execution_count": null,
   "metadata": {
    "collapsed": true
   },
   "outputs": [],
   "source": []
  },
  {
   "cell_type": "code",
   "execution_count": null,
   "metadata": {
    "collapsed": true
   },
   "outputs": [],
   "source": []
  }
 ],
 "metadata": {
  "kernelspec": {
   "display_name": "Python 3",
   "language": "python",
   "name": "python3"
  },
  "language_info": {
   "codemirror_mode": {
    "name": "ipython",
    "version": 3
   },
   "file_extension": ".py",
   "mimetype": "text/x-python",
   "name": "python",
   "nbconvert_exporter": "python",
   "pygments_lexer": "ipython3",
   "version": "3.6.0"
  }
 },
 "nbformat": 4,
 "nbformat_minor": 2
}
