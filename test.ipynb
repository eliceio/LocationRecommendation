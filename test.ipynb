{
 "cells": [
  {
   "cell_type": "code",
   "execution_count": 4,
   "metadata": {
    "collapsed": true
   },
   "outputs": [],
   "source": [
    "import numpy as np\n",
    "import pandas as pd\n",
    "from scipy.optimize import minimize\n",
    "from scipy.spatial.distance import pdist\n",
    "from scipy.spatial.distance import squareform # distance.euclidean(a,b)\n",
    "import tensorflow as tf\n",
    "import pdb"
   ]
  },
  {
   "cell_type": "code",
   "execution_count": 5,
   "metadata": {
    "collapsed": true
   },
   "outputs": [],
   "source": [
    "def load_data():\n",
    "    df = pd.read_csv('data/daejeon.csv', delimiter='\\t', index_col=False)\n",
    "    return df"
   ]
  },
  {
   "cell_type": "code",
   "execution_count": 6,
   "metadata": {
    "collapsed": true
   },
   "outputs": [],
   "source": [
    "def initialize(N, Z, I):\n",
    "    '''\n",
    "    Initialize theta and phi\n",
    "    theta shape: N * Z\n",
    "    phi shape: Z * I\n",
    "    '''\n",
    "    theta = np.random.rand(N, Z)\n",
    "    row_sum = theta.sum(axis=1).reshape(-1, 1)\n",
    "    theta = theta / row_sum\n",
    "    phi = np.random.rand(Z, I)\n",
    "    \n",
    "    return [theta, phi]"
   ]
  },
  {
   "cell_type": "code",
   "execution_count": 7,
   "metadata": {
    "collapsed": true
   },
   "outputs": [],
   "source": [
    "def getDist(beta, location):\n",
    "    '''\n",
    "    input\n",
    "    beta: scalar\n",
    "    location: should be sorted list\n",
    "    \n",
    "    output\n",
    "    distance: dataframe, shape of I * I\n",
    "    '''\n",
    "    I = len(location)\n",
    "    L = np.array([[x[1], x[2]] for x in location])\n",
    "    dist = squareform(pdist(np.exp(-0.5*beta*L)))\n",
    "    loc_id = np.array([x[0] for x in location])\n",
    "    distance = pd.DataFrame(dist, columns=loc_id, index=loc_id)\n",
    "    distance[distance == 0] = 1\n",
    "    return distance"
   ]
  },
  {
   "cell_type": "code",
   "execution_count": 8,
   "metadata": {
    "collapsed": true
   },
   "outputs": [],
   "source": [
    "def get_Xum(df):\n",
    "    df_temp = df.sort_values('Member ID')\n",
    "    df_user = df_temp[[\"Member ID\", \"Restaurant ID\"]]\n",
    "\n",
    "    x_um = {}\n",
    "    for index, row in df_user.iterrows():\n",
    "        if row[\"Member ID\"] not in x_um:\n",
    "            x_um[row[\"Member ID\"]] = [row[\"Restaurant ID\"]]\n",
    "        else:\n",
    "            x_um[row[\"Member ID\"]].append(row[\"Restaurant ID\"])\n",
    "\n",
    "    return x_um"
   ]
  },
  {
   "cell_type": "code",
   "execution_count": 9,
   "metadata": {
    "collapsed": true
   },
   "outputs": [],
   "source": [
    "def get_P_Xum(location, df_dist, x_um, psi):\n",
    "    \n",
    "    loc_id = np.array([x[0] for x in location])\n",
    "    phi = psi[1]; phi = np.exp(phi)\n",
    "    phi = pd.DataFrame(phi, columns=loc_id)\n",
    "    pXum = {}; I = len(loc_id); Z = phi.shape[0]\n",
    "    for key in x_um.keys():\n",
    "        temp = np.full([Z, I], np.nan)\n",
    "        df_temp = pd.DataFrame(temp, columns=loc_id)\n",
    "        usr_vsted_loc = x_um[key]\n",
    "        userdist = df_dist.loc[usr_vsted_loc, usr_vsted_loc]\n",
    "        userdistSum = userdist.sum(axis=1)\n",
    "        usr_phi = phi.loc[:, usr_vsted_loc]\n",
    "        prob = usr_phi * userdistSum\n",
    "        prob = prob / prob.sum()\n",
    "\n",
    "        df_temp[usr_vsted_loc] = prob\n",
    "        pXum[key] = df_temp.fillna(0)\n",
    "        \n",
    "    return pXum"
   ]
  },
  {
   "cell_type": "code",
   "execution_count": 10,
   "metadata": {
    "collapsed": false
   },
   "outputs": [],
   "source": [
    "def E(psi, pXum, df_user, x_um):\n",
    "    np.seterr(divide='ignore', invalid='ignore')\n",
    "    theta = psi[0]; phi = psi[1]; topicProb = {}\n",
    "    memId = sorted(df_user['Member ID'].unique())\n",
    "    locId = sorted(df_user['Restaurant ID'].unique())\n",
    "    \n",
    "    theta = pd.DataFrame(theta, index=memId)\n",
    "    for key in x_um.keys():\n",
    "        theta_usr = theta.loc[key].as_matrix()\n",
    "        pXum_usr = pXum[key].as_matrix()\n",
    "        theta_usr = theta_usr.reshape(1, -1)\n",
    "        temp = theta_usr.T * pXum_usr\n",
    "        tempSum = temp.sum(axis=0)\n",
    "        prob = temp / tempSum\n",
    "        topicProb[key] = pd.DataFrame(prob, columns=locId).fillna(0)\n",
    "            \n",
    "    return topicProb"
   ]
  },
  {
   "cell_type": "code",
   "execution_count": 11,
   "metadata": {
    "collapsed": true
   },
   "outputs": [],
   "source": [
    "def get_ind(x_um):\n",
    "    indices = []\n",
    "    for key in x_um.keys():\n",
    "        value = x_um[key]\n",
    "        if len(value) == 1:\n",
    "            indices.append([key, value[0]])\n",
    "        else:\n",
    "            for loc in value:\n",
    "                indices.append([key, loc])\n",
    "\n",
    "    return indices\n",
    "\n",
    "\n",
    "def theta_optimize(pXum):\n",
    "    theta_hat_numer = pXum.sum(axis=1)\n",
    "    theta_hat_denom = theta_hat_numer.sum()\n",
    "    theta_hat = theta_hat_numer / theta_hat_denom\n",
    "\n",
    "    return theta_hat\n",
    "\n",
    "\n",
    "def fun1(Q_, Phi_grad_):\n",
    "    \n",
    "    return -(Q_), Phi_grad_"
   ]
  },
  {
   "cell_type": "code",
   "execution_count": 12,
   "metadata": {
    "collapsed": false
   },
   "outputs": [],
   "source": [
    "def M(x_um, p_hat, Psi, pXum, theta , N, Z ,I):\n",
    "\n",
    "    theta = np.array(theta)\n",
    "    phi = Psi[1]\n",
    "\n",
    "    #N = theta.shape[0]; Z = theta.shape[1]; I = phi.shape[1]\n",
    "\n",
    "    indices = get_ind(x_um)\n",
    "    Indices = tf.SparseTensor(indices = indices, values = tf.ones(len(indices), dtype = tf.float64), dense_shape = [N, I])\n",
    "    \n",
    "    # placeholder\n",
    "    P_hat = tf.placeholder(tf.float64, shape = [Z, N, I])\n",
    "    Theta = tf.placeholder(tf.float64, shape = [N, Z])\n",
    "    Phi = tf.placeholder(tf.float64, shape = [Z, I])\n",
    "    P = tf.placeholder(tf.float64, shape = [Z, N, I])\n",
    "\n",
    "\n",
    "    log_Theta = tf.expand_dims(tf.transpose(tf.log(Theta)), axis = 2)\n",
    "    #print(\"log Theta shape:\", log_Theta.get_shape())\n",
    "    #print(\"P_hat shape:\", P_hat.get_shape())\n",
    "    #print(\"P shape:\", P.get_shape())\n",
    "\n",
    "    loglike = P_hat * log_Theta * P\n",
    "\n",
    "    Q = tf.reduce_sum(tf.sparse_tensor_dense_matmul(Indices, tf.transpose(tf.reshape(loglike, [-1, I]))))\n",
    "\n",
    "    Phi_grad = tf.gradients(Q, Phi)\n",
    "    \n",
    "    feed_dict = {P_hat : p_hat,\n",
    "                 Theta : theta,\n",
    "                 Phi : phi,\n",
    "                 P : pXum}\n",
    "    \n",
    "    \n",
    "    sess = tf.Session()\n",
    "#     pdb.set_trace()    \n",
    "    print(\"Check the inputs\")\n",
    "    print(\"=============== P_hat ===============\")\n",
    "    print(sess.run(P_hat, feed_dict))\n",
    "    print(\"=============== Theta ===============\")\n",
    "    print(sess.run(Theta, feed_dict))\n",
    "    print(\"=============== Phi ===============\")\n",
    "    print(sess.run(Phi, feed_dict))\n",
    "    print(\"=============== P ===============\")\n",
    "    print(sess.run(P, feed_dict))\n",
    "    print(\"I hope they are right. God plz save us\")\n",
    "    pdb.set_trace()\n",
    "    Q_ = sess.run(Q, feed_dict)\n",
    "    \n",
    "#     print(sess.run(P_hat,feed_dict))\n",
    "#     print(\"-------------------------\")\n",
    "#     print(sess.run(Theta, feed_dict))\n",
    "#     print(\"-------------------------\")\n",
    "#     print(sess.run(Phi))\n",
    "#     print(\"-------------------------\")\n",
    "#     print(sess.run(P))\n",
    "\n",
    "    Phi_grad_ = sess.run(Phi_grad, feed_dict)\n",
    "    \n",
    "    fun = lambda phi: fun1(Q_, Phi_grad_)\n",
    "    \n",
    "    res =  minimize(fun, phi, jac = True)\n",
    "    \n",
    "    return [theta, res.x]\n"
   ]
  },
  {
   "cell_type": "code",
   "execution_count": 13,
   "metadata": {
    "collapsed": false
   },
   "outputs": [],
   "source": [
    "def main():\n",
    "    df = load_data()\n",
    "    beta = float(input(\"Enter the beta value:\"))\n",
    "    Z = int(input(\"Enter the number of topic:\"))\n",
    "    N = len(df['Member ID'].unique())\n",
    "    I = len(df['Restaurant ID'].unique())\n",
    "\n",
    "    df_loc = df[['Restaurant ID', 'Restaurant Latitude', 'Restaurant Longitude']]\n",
    "    df_user = df[['Member ID', 'Restaurant ID']]\n",
    "    location = sorted(list(set([tuple(x) for x in df_loc.to_records(index=False)])))\n",
    "\n",
    "    df_dist = getDist(beta, location)\n",
    "\n",
    "    x_um = get_Xum(df)\n",
    "    \n",
    "    Psi = initialize(N, Z, I)\n",
    "    Theta = Psi[0]; Phi = Psi[1]\n",
    "\n",
    "\n",
    "    pXum = get_P_Xum(location, df_dist, x_um, Psi)    \n",
    "    #pdb.set_trace()\n",
    "    \n",
    "    \n",
    "    P_hat = E(Psi, pXum, df_user, x_um)\n",
    "\n",
    "    p_hat = []\n",
    "    PXum = []\n",
    "    for key in P_hat.keys():\n",
    "        p_hat.append(P_hat[key].as_matrix())\n",
    "        PXum.append(pXum[key].as_matrix())\n",
    "    \n",
    "    p_hat = np.array(p_hat)\n",
    "    p_hat1 = np.swapaxes(p_hat, 0, 1)\n",
    "    PXum = np.array(PXum)\n",
    "    PXum1 = np.swapaxes(PXum, 0, 1)\n",
    "    \n",
    "    theta = []\n",
    "    for key in P_hat.keys():\n",
    "        temp = theta_optimize(P_hat[key])\n",
    "        theta.append(temp)\n",
    "        \n",
    "    theta = np.array(theta)\n",
    "    # P :  pXum\n",
    "    psi = M(x_um, p_hat1, Psi, PXum1, theta, N, Z, I)"
   ]
  },
  {
   "cell_type": "code",
   "execution_count": 14,
   "metadata": {
    "collapsed": false
   },
   "outputs": [
    {
     "name": "stdout",
     "output_type": "stream",
     "text": [
      "Enter the beta value:1\n",
      "Enter the number of topic:3\n",
      "Check the inputs\n",
      "=============== P_hat ===============\n",
      "[[[ 0.  0.  0. ...,  0.  0.  0.]\n",
      "  [ 0.  0.  0. ...,  0.  0.  0.]\n",
      "  [ 0.  0.  0. ...,  0.  0.  0.]\n",
      "  ..., \n",
      "  [ 0.  0.  0. ...,  0.  0.  0.]\n",
      "  [ 0.  0.  0. ...,  0.  0.  0.]\n",
      "  [ 0.  0.  0. ...,  0.  0.  0.]]\n",
      "\n",
      " [[ 0.  0.  0. ...,  0.  0.  0.]\n",
      "  [ 0.  0.  0. ...,  0.  0.  0.]\n",
      "  [ 0.  0.  0. ...,  0.  0.  0.]\n",
      "  ..., \n",
      "  [ 0.  0.  0. ...,  0.  0.  0.]\n",
      "  [ 0.  0.  0. ...,  0.  0.  0.]\n",
      "  [ 0.  0.  0. ...,  0.  0.  0.]]\n",
      "\n",
      " [[ 0.  0.  0. ...,  0.  0.  0.]\n",
      "  [ 0.  0.  0. ...,  0.  0.  0.]\n",
      "  [ 0.  0.  0. ...,  0.  0.  0.]\n",
      "  ..., \n",
      "  [ 0.  0.  0. ...,  0.  0.  0.]\n",
      "  [ 0.  0.  0. ...,  0.  0.  0.]\n",
      "  [ 0.  0.  0. ...,  0.  0.  0.]]]\n",
      "=============== Theta ===============\n",
      "[[ 0.3035104   0.59834172  0.09814788]\n",
      " [ 0.47384647  0.17106426  0.35508927]\n",
      " [ 0.07796352  0.36280343  0.55923305]\n",
      " ..., \n",
      " [ 0.29108593  0.49676109  0.21215298]\n",
      " [ 0.59158165  0.11663436  0.29178399]\n",
      " [ 0.48109902  0.4259487   0.09295229]]\n",
      "=============== Phi ===============\n",
      "[[ 0.36305753  0.60423981  0.61324108 ...,  0.57703083  0.53491662\n",
      "   0.24915582]\n",
      " [ 0.41933488  0.72041472  0.9188025  ...,  0.57264036  0.17649947\n",
      "   0.7175645 ]\n",
      " [ 0.16029373  0.58694576  0.84410635 ...,  0.59275409  0.68130895\n",
      "   0.77796586]]\n",
      "=============== P ===============\n",
      "[[[ 0.  0.  0. ...,  0.  0.  0.]\n",
      "  [ 0.  0.  0. ...,  0.  0.  0.]\n",
      "  [ 0.  0.  0. ...,  0.  0.  0.]\n",
      "  ..., \n",
      "  [ 0.  0.  0. ...,  0.  0.  0.]\n",
      "  [ 0.  0.  0. ...,  0.  0.  0.]\n",
      "  [ 0.  0.  0. ...,  0.  0.  0.]]\n",
      "\n",
      " [[ 0.  0.  0. ...,  0.  0.  0.]\n",
      "  [ 0.  0.  0. ...,  0.  0.  0.]\n",
      "  [ 0.  0.  0. ...,  0.  0.  0.]\n",
      "  ..., \n",
      "  [ 0.  0.  0. ...,  0.  0.  0.]\n",
      "  [ 0.  0.  0. ...,  0.  0.  0.]\n",
      "  [ 0.  0.  0. ...,  0.  0.  0.]]\n",
      "\n",
      " [[ 0.  0.  0. ...,  0.  0.  0.]\n",
      "  [ 0.  0.  0. ...,  0.  0.  0.]\n",
      "  [ 0.  0.  0. ...,  0.  0.  0.]\n",
      "  ..., \n",
      "  [ 0.  0.  0. ...,  0.  0.  0.]\n",
      "  [ 0.  0.  0. ...,  0.  0.  0.]\n",
      "  [ 0.  0.  0. ...,  0.  0.  0.]]]\n",
      "I hope they are right. God plz save us\n",
      "> <ipython-input-12-42441fb9ee1c>(48)M()\n",
      "-> Q_ = sess.run(Q, feed_dict)\n",
      "(Pdb) q\n"
     ]
    },
    {
     "ename": "BdbQuit",
     "evalue": "",
     "output_type": "error",
     "traceback": [
      "\u001b[0;31m---------------------------------------------------------------------------\u001b[0m",
      "\u001b[0;31mBdbQuit\u001b[0m                                   Traceback (most recent call last)",
      "\u001b[0;32m<ipython-input-14-58ca95c5b364>\u001b[0m in \u001b[0;36m<module>\u001b[0;34m()\u001b[0m\n\u001b[0;32m----> 1\u001b[0;31m \u001b[0mmain\u001b[0m\u001b[0;34m(\u001b[0m\u001b[0;34m)\u001b[0m\u001b[0;34m\u001b[0m\u001b[0m\n\u001b[0m",
      "\u001b[0;32m<ipython-input-13-abd2f0bda91d>\u001b[0m in \u001b[0;36mmain\u001b[0;34m()\u001b[0m\n\u001b[1;32m     42\u001b[0m     \u001b[0mtheta\u001b[0m \u001b[0;34m=\u001b[0m \u001b[0mnp\u001b[0m\u001b[0;34m.\u001b[0m\u001b[0marray\u001b[0m\u001b[0;34m(\u001b[0m\u001b[0mtheta\u001b[0m\u001b[0;34m)\u001b[0m\u001b[0;34m\u001b[0m\u001b[0m\n\u001b[1;32m     43\u001b[0m     \u001b[0;31m# P :  pXum\u001b[0m\u001b[0;34m\u001b[0m\u001b[0;34m\u001b[0m\u001b[0m\n\u001b[0;32m---> 44\u001b[0;31m     \u001b[0mpsi\u001b[0m \u001b[0;34m=\u001b[0m \u001b[0mM\u001b[0m\u001b[0;34m(\u001b[0m\u001b[0mx_um\u001b[0m\u001b[0;34m,\u001b[0m \u001b[0mp_hat1\u001b[0m\u001b[0;34m,\u001b[0m \u001b[0mPsi\u001b[0m\u001b[0;34m,\u001b[0m \u001b[0mPXum1\u001b[0m\u001b[0;34m,\u001b[0m \u001b[0mtheta\u001b[0m\u001b[0;34m,\u001b[0m \u001b[0mN\u001b[0m\u001b[0;34m,\u001b[0m \u001b[0mZ\u001b[0m\u001b[0;34m,\u001b[0m \u001b[0mI\u001b[0m\u001b[0;34m)\u001b[0m\u001b[0;34m\u001b[0m\u001b[0m\n\u001b[0m",
      "\u001b[0;32m<ipython-input-12-42441fb9ee1c>\u001b[0m in \u001b[0;36mM\u001b[0;34m(x_um, p_hat, Psi, pXum, theta, N, Z, I)\u001b[0m\n\u001b[1;32m     46\u001b[0m     \u001b[0mprint\u001b[0m\u001b[0;34m(\u001b[0m\u001b[0;34m\"I hope they are right. God plz save us\"\u001b[0m\u001b[0;34m)\u001b[0m\u001b[0;34m\u001b[0m\u001b[0m\n\u001b[1;32m     47\u001b[0m     \u001b[0mpdb\u001b[0m\u001b[0;34m.\u001b[0m\u001b[0mset_trace\u001b[0m\u001b[0;34m(\u001b[0m\u001b[0;34m)\u001b[0m\u001b[0;34m\u001b[0m\u001b[0m\n\u001b[0;32m---> 48\u001b[0;31m     \u001b[0mQ_\u001b[0m \u001b[0;34m=\u001b[0m \u001b[0msess\u001b[0m\u001b[0;34m.\u001b[0m\u001b[0mrun\u001b[0m\u001b[0;34m(\u001b[0m\u001b[0mQ\u001b[0m\u001b[0;34m,\u001b[0m \u001b[0mfeed_dict\u001b[0m\u001b[0;34m)\u001b[0m\u001b[0;34m\u001b[0m\u001b[0m\n\u001b[0m\u001b[1;32m     49\u001b[0m \u001b[0;34m\u001b[0m\u001b[0m\n\u001b[1;32m     50\u001b[0m \u001b[0;31m#     print(sess.run(P_hat,feed_dict))\u001b[0m\u001b[0;34m\u001b[0m\u001b[0;34m\u001b[0m\u001b[0m\n",
      "\u001b[0;32m<ipython-input-12-42441fb9ee1c>\u001b[0m in \u001b[0;36mM\u001b[0;34m(x_um, p_hat, Psi, pXum, theta, N, Z, I)\u001b[0m\n\u001b[1;32m     46\u001b[0m     \u001b[0mprint\u001b[0m\u001b[0;34m(\u001b[0m\u001b[0;34m\"I hope they are right. God plz save us\"\u001b[0m\u001b[0;34m)\u001b[0m\u001b[0;34m\u001b[0m\u001b[0m\n\u001b[1;32m     47\u001b[0m     \u001b[0mpdb\u001b[0m\u001b[0;34m.\u001b[0m\u001b[0mset_trace\u001b[0m\u001b[0;34m(\u001b[0m\u001b[0;34m)\u001b[0m\u001b[0;34m\u001b[0m\u001b[0m\n\u001b[0;32m---> 48\u001b[0;31m     \u001b[0mQ_\u001b[0m \u001b[0;34m=\u001b[0m \u001b[0msess\u001b[0m\u001b[0;34m.\u001b[0m\u001b[0mrun\u001b[0m\u001b[0;34m(\u001b[0m\u001b[0mQ\u001b[0m\u001b[0;34m,\u001b[0m \u001b[0mfeed_dict\u001b[0m\u001b[0;34m)\u001b[0m\u001b[0;34m\u001b[0m\u001b[0m\n\u001b[0m\u001b[1;32m     49\u001b[0m \u001b[0;34m\u001b[0m\u001b[0m\n\u001b[1;32m     50\u001b[0m \u001b[0;31m#     print(sess.run(P_hat,feed_dict))\u001b[0m\u001b[0;34m\u001b[0m\u001b[0;34m\u001b[0m\u001b[0m\n",
      "\u001b[0;32m/Users/Lumin/anaconda3/lib/python3.6/bdb.py\u001b[0m in \u001b[0;36mtrace_dispatch\u001b[0;34m(self, frame, event, arg)\u001b[0m\n\u001b[1;32m     46\u001b[0m             \u001b[0;32mreturn\u001b[0m \u001b[0;31m# None\u001b[0m\u001b[0;34m\u001b[0m\u001b[0m\n\u001b[1;32m     47\u001b[0m         \u001b[0;32mif\u001b[0m \u001b[0mevent\u001b[0m \u001b[0;34m==\u001b[0m \u001b[0;34m'line'\u001b[0m\u001b[0;34m:\u001b[0m\u001b[0;34m\u001b[0m\u001b[0m\n\u001b[0;32m---> 48\u001b[0;31m             \u001b[0;32mreturn\u001b[0m \u001b[0mself\u001b[0m\u001b[0;34m.\u001b[0m\u001b[0mdispatch_line\u001b[0m\u001b[0;34m(\u001b[0m\u001b[0mframe\u001b[0m\u001b[0;34m)\u001b[0m\u001b[0;34m\u001b[0m\u001b[0m\n\u001b[0m\u001b[1;32m     49\u001b[0m         \u001b[0;32mif\u001b[0m \u001b[0mevent\u001b[0m \u001b[0;34m==\u001b[0m \u001b[0;34m'call'\u001b[0m\u001b[0;34m:\u001b[0m\u001b[0;34m\u001b[0m\u001b[0m\n\u001b[1;32m     50\u001b[0m             \u001b[0;32mreturn\u001b[0m \u001b[0mself\u001b[0m\u001b[0;34m.\u001b[0m\u001b[0mdispatch_call\u001b[0m\u001b[0;34m(\u001b[0m\u001b[0mframe\u001b[0m\u001b[0;34m,\u001b[0m \u001b[0marg\u001b[0m\u001b[0;34m)\u001b[0m\u001b[0;34m\u001b[0m\u001b[0m\n",
      "\u001b[0;32m/Users/Lumin/anaconda3/lib/python3.6/bdb.py\u001b[0m in \u001b[0;36mdispatch_line\u001b[0;34m(self, frame)\u001b[0m\n\u001b[1;32m     65\u001b[0m         \u001b[0;32mif\u001b[0m \u001b[0mself\u001b[0m\u001b[0;34m.\u001b[0m\u001b[0mstop_here\u001b[0m\u001b[0;34m(\u001b[0m\u001b[0mframe\u001b[0m\u001b[0;34m)\u001b[0m \u001b[0;32mor\u001b[0m \u001b[0mself\u001b[0m\u001b[0;34m.\u001b[0m\u001b[0mbreak_here\u001b[0m\u001b[0;34m(\u001b[0m\u001b[0mframe\u001b[0m\u001b[0;34m)\u001b[0m\u001b[0;34m:\u001b[0m\u001b[0;34m\u001b[0m\u001b[0m\n\u001b[1;32m     66\u001b[0m             \u001b[0mself\u001b[0m\u001b[0;34m.\u001b[0m\u001b[0muser_line\u001b[0m\u001b[0;34m(\u001b[0m\u001b[0mframe\u001b[0m\u001b[0;34m)\u001b[0m\u001b[0;34m\u001b[0m\u001b[0m\n\u001b[0;32m---> 67\u001b[0;31m             \u001b[0;32mif\u001b[0m \u001b[0mself\u001b[0m\u001b[0;34m.\u001b[0m\u001b[0mquitting\u001b[0m\u001b[0;34m:\u001b[0m \u001b[0;32mraise\u001b[0m \u001b[0mBdbQuit\u001b[0m\u001b[0;34m\u001b[0m\u001b[0m\n\u001b[0m\u001b[1;32m     68\u001b[0m         \u001b[0;32mreturn\u001b[0m \u001b[0mself\u001b[0m\u001b[0;34m.\u001b[0m\u001b[0mtrace_dispatch\u001b[0m\u001b[0;34m\u001b[0m\u001b[0m\n\u001b[1;32m     69\u001b[0m \u001b[0;34m\u001b[0m\u001b[0m\n",
      "\u001b[0;31mBdbQuit\u001b[0m: "
     ]
    }
   ],
   "source": [
    "main()"
   ]
  },
  {
   "cell_type": "code",
   "execution_count": null,
   "metadata": {
    "collapsed": true
   },
   "outputs": [],
   "source": []
  }
 ],
 "metadata": {
  "kernelspec": {
   "display_name": "Python 3",
   "language": "python",
   "name": "python3"
  },
  "language_info": {
   "codemirror_mode": {
    "name": "ipython",
    "version": 3
   },
   "file_extension": ".py",
   "mimetype": "text/x-python",
   "name": "python",
   "nbconvert_exporter": "python",
   "pygments_lexer": "ipython3",
   "version": "3.6.0"
  }
 },
 "nbformat": 4,
 "nbformat_minor": 2
}
