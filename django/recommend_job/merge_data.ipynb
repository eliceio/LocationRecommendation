{
 "cells": [
  {
   "cell_type": "code",
   "execution_count": 26,
   "metadata": {},
   "outputs": [
    {
     "data": {
      "text/html": [
       "<div>\n",
       "<style>\n",
       "    .dataframe thead tr:only-child th {\n",
       "        text-align: right;\n",
       "    }\n",
       "\n",
       "    .dataframe thead th {\n",
       "        text-align: left;\n",
       "    }\n",
       "\n",
       "    .dataframe tbody tr th {\n",
       "        vertical-align: top;\n",
       "    }\n",
       "</style>\n",
       "<table border=\"1\" class=\"dataframe\">\n",
       "  <thead>\n",
       "    <tr style=\"text-align: right;\">\n",
       "      <th></th>\n",
       "      <th>Restaurant ID</th>\n",
       "      <th>Restaurant Address</th>\n",
       "    </tr>\n",
       "  </thead>\n",
       "  <tbody>\n",
       "    <tr>\n",
       "      <th>0</th>\n",
       "      <td>188235</td>\n",
       "      <td>대전시 서구 둔산동 1081</td>\n",
       "    </tr>\n",
       "    <tr>\n",
       "      <th>58</th>\n",
       "      <td>193024</td>\n",
       "      <td>대전시 중구 은행동 153</td>\n",
       "    </tr>\n",
       "    <tr>\n",
       "      <th>85</th>\n",
       "      <td>225334</td>\n",
       "      <td>대전시 유성구 봉명동 676-3</td>\n",
       "    </tr>\n",
       "    <tr>\n",
       "      <th>114</th>\n",
       "      <td>247510</td>\n",
       "      <td>대전시 유성구 궁동 424-3</td>\n",
       "    </tr>\n",
       "    <tr>\n",
       "      <th>120</th>\n",
       "      <td>16912</td>\n",
       "      <td>대전시 중구 은행동 145-1</td>\n",
       "    </tr>\n",
       "  </tbody>\n",
       "</table>\n",
       "</div>"
      ],
      "text/plain": [
       "     Restaurant ID Restaurant Address\n",
       "0           188235    대전시 서구 둔산동 1081\n",
       "58          193024     대전시 중구 은행동 153\n",
       "85          225334  대전시 유성구 봉명동 676-3\n",
       "114         247510   대전시 유성구 궁동 424-3\n",
       "120          16912   대전시 중구 은행동 145-1"
      ]
     },
     "execution_count": 26,
     "metadata": {},
     "output_type": "execute_result"
    }
   ],
   "source": [
    "import numpy as np\n",
    "import pandas as pd\n",
    "\n",
    "daejeon = pd.read_csv('Daejeon_dataset.csv',delimiter='\\t')\n",
    "daejeon_all = pd.DataFrame(daejeon, columns=[['Restaurant ID', 'Restaurant Address']]).drop_duplicates()\n",
    "\n",
    "restaurants = pd.DataFrame(daejeon_all)\n",
    "restaurants.head()"
   ]
  },
  {
   "cell_type": "code",
   "execution_count": 28,
   "metadata": {
    "scrolled": true
   },
   "outputs": [
    {
     "data": {
      "text/plain": [
       "47875     234\n",
       "553856    115\n",
       "71218      72\n",
       "577319     69\n",
       "478541     69\n",
       "507356     52\n",
       "708415     52\n",
       "55110      51\n",
       "480690     50\n",
       "146244     50\n",
       "494834     45\n",
       "161108     44\n",
       "641116     42\n",
       "646748     41\n",
       "48495      41\n",
       "530546     34\n",
       "722980     33\n",
       "694114     31\n",
       "648211     29\n",
       "19740      29\n",
       "54607      27\n",
       "199425     26\n",
       "593070     26\n",
       "49511      25\n",
       "533317     24\n",
       "23618      23\n",
       "202502     22\n",
       "512704     22\n",
       "136675     20\n",
       "456341     20\n",
       "         ... \n",
       "622799      1\n",
       "356707      1\n",
       "567654      1\n",
       "81346       1\n",
       "494022      1\n",
       "225813      1\n",
       "102927      1\n",
       "598541      1\n",
       "16907       1\n",
       "573945      1\n",
       "746601      1\n",
       "725485      1\n",
       "139755      1\n",
       "391652      1\n",
       "18904       1\n",
       "90579       1\n",
       "18884       1\n",
       "51564       1\n",
       "31168       1\n",
       "584126      1\n",
       "76220       1\n",
       "27066       1\n",
       "6584        1\n",
       "14754       1\n",
       "4511        1\n",
       "29081       1\n",
       "731114      1\n",
       "487817      1\n",
       "20865       1\n",
       "309249      1\n",
       "Name: Member ID, Length: 1171, dtype: int64"
      ]
     },
     "execution_count": 28,
     "metadata": {},
     "output_type": "execute_result"
    }
   ],
   "source": [
    "member = daejeon['Member ID'].value_counts()\n",
    "member"
   ]
  },
  {
   "cell_type": "code",
   "execution_count": 30,
   "metadata": {},
   "outputs": [],
   "source": [
    "import os\n",
    "path = \"recommend\"\n",
    "\n",
    "result = pd.DataFrame()\n",
    "\n",
    "for filename in os.listdir(path):\n",
    "    filename = path + '/' + filename\n",
    "    tmpDF = pd.read_csv(filename)\n",
    "    result = pd.concat([result, tmpDF])\n",
    "result = result.join(restaurants.set_index('Restaurant ID'), on='Restaurant ID')\n",
    "result.to_csv('recommend_total.csv')"
   ]
  }
 ],
 "metadata": {
  "kernelspec": {
   "display_name": "Python 3",
   "language": "python",
   "name": "python3"
  },
  "language_info": {
   "codemirror_mode": {
    "name": "ipython",
    "version": 3
   },
   "file_extension": ".py",
   "mimetype": "text/x-python",
   "name": "python",
   "nbconvert_exporter": "python",
   "pygments_lexer": "ipython3",
   "version": "3.6.1"
  }
 },
 "nbformat": 4,
 "nbformat_minor": 2
}
