{
 "cells": [
  {
   "cell_type": "code",
   "execution_count": 1,
   "metadata": {
    "collapsed": false
   },
   "outputs": [],
   "source": [
    "import pandas as pd\n",
    "import numpy as np\n",
    "import scipy\n",
    "# numpy version should be 1.13, because of the heaviside function\n",
    "from scipy.stats import pearsonr, logistic\n",
    "from scipy.special import expit\n",
    "from scipy.spatial.distance import squareform\n",
    "from scipy.optimize import minimize\n",
    "import time\n",
    "import pdb"
   ]
  },
  {
   "cell_type": "code",
   "execution_count": 2,
   "metadata": {
    "collapsed": false
   },
   "outputs": [
    {
     "name": "stdout",
     "output_type": "stream",
     "text": [
      "1.13.1\n"
     ]
    }
   ],
   "source": [
    "print(np.__version__)"
   ]
  },
  {
   "cell_type": "code",
   "execution_count": 3,
   "metadata": {
    "collapsed": true
   },
   "outputs": [],
   "source": [
    "def load_data():\n",
    "    df = pd.read_csv('data/Daejeon_dataset.csv', delimiter='\\t', index_col=False)\n",
    "    return df"
   ]
  },
  {
   "cell_type": "code",
   "execution_count": 4,
   "metadata": {
    "collapsed": false,
    "scrolled": true
   },
   "outputs": [
    {
     "data": {
      "text/html": [
       "<div>\n",
       "<style>\n",
       "    .dataframe thead tr:only-child th {\n",
       "        text-align: right;\n",
       "    }\n",
       "\n",
       "    .dataframe thead th {\n",
       "        text-align: left;\n",
       "    }\n",
       "\n",
       "    .dataframe tbody tr th {\n",
       "        vertical-align: top;\n",
       "    }\n",
       "</style>\n",
       "<table border=\"1\" class=\"dataframe\">\n",
       "  <thead>\n",
       "    <tr style=\"text-align: right;\">\n",
       "      <th></th>\n",
       "      <th>Comment</th>\n",
       "      <th>Member ID</th>\n",
       "      <th>Member Nickname</th>\n",
       "      <th>Rating</th>\n",
       "      <th>Restaurant Address</th>\n",
       "      <th>Restaurant ID</th>\n",
       "      <th>Restaurant Latitude</th>\n",
       "      <th>Restaurant Longitude</th>\n",
       "      <th>Restaurant Name</th>\n",
       "      <th>Restaurant code</th>\n",
       "      <th>Restaurant subcode</th>\n",
       "      <th>Time</th>\n",
       "    </tr>\n",
       "  </thead>\n",
       "  <tbody>\n",
       "    <tr>\n",
       "      <th>0</th>\n",
       "      <td>대전 둔산동에 위치한 퓨전 양식집! 입구부터 내부까지 인테리어도 넘 예쁘고 좋았담 ...</td>\n",
       "      <td>361632</td>\n",
       "      <td>써머칭구</td>\n",
       "      <td>3</td>\n",
       "      <td>대전시 서구 둔산동 1081</td>\n",
       "      <td>188235</td>\n",
       "      <td>36.35188</td>\n",
       "      <td>127.37573</td>\n",
       "      <td>모모가든</td>\n",
       "      <td>4</td>\n",
       "      <td>16</td>\n",
       "      <td>2017-07-07 06:44:19</td>\n",
       "    </tr>\n",
       "    <tr>\n",
       "      <th>1</th>\n",
       "      <td>음식도 너무 맛있고 분위기도 짱 좋아요!!\\n세명이서 자몽리코타샐러드, 백합마스카포...</td>\n",
       "      <td>567494</td>\n",
       "      <td>쌤J</td>\n",
       "      <td>3</td>\n",
       "      <td>대전시 서구 둔산동 1081</td>\n",
       "      <td>188235</td>\n",
       "      <td>36.35188</td>\n",
       "      <td>127.37573</td>\n",
       "      <td>모모가든</td>\n",
       "      <td>4</td>\n",
       "      <td>16</td>\n",
       "      <td>2017-01-27 16:23:00</td>\n",
       "    </tr>\n",
       "    <tr>\n",
       "      <th>2</th>\n",
       "      <td>오랜만에 또 방문한 모모가든이에요. 개인적으로 대전 탑3안에 꼽을 것 같아요!\\n저...</td>\n",
       "      <td>47875</td>\n",
       "      <td>준영</td>\n",
       "      <td>3</td>\n",
       "      <td>대전시 서구 둔산동 1081</td>\n",
       "      <td>188235</td>\n",
       "      <td>36.35188</td>\n",
       "      <td>127.37573</td>\n",
       "      <td>모모가든</td>\n",
       "      <td>4</td>\n",
       "      <td>16</td>\n",
       "      <td>2016-06-17 10:32:42</td>\n",
       "    </tr>\n",
       "    <tr>\n",
       "      <th>3</th>\n",
       "      <td>모모가든 정말 대전에서 가본 곳 중 최고였어요!!!! 일단 자몽 리코타 치즈 샐러드...</td>\n",
       "      <td>47875</td>\n",
       "      <td>준영</td>\n",
       "      <td>3</td>\n",
       "      <td>대전시 서구 둔산동 1081</td>\n",
       "      <td>188235</td>\n",
       "      <td>36.35188</td>\n",
       "      <td>127.37573</td>\n",
       "      <td>모모가든</td>\n",
       "      <td>4</td>\n",
       "      <td>16</td>\n",
       "      <td>2015-10-10 16:04:11</td>\n",
       "    </tr>\n",
       "    <tr>\n",
       "      <th>4</th>\n",
       "      <td>타임월드 근처에 있는 집이었다. 가게가 의외로 찾기 쉽지 않았는데 가보니 여기에 이...</td>\n",
       "      <td>533317</td>\n",
       "      <td>푱</td>\n",
       "      <td>3</td>\n",
       "      <td>대전시 서구 둔산동 1081</td>\n",
       "      <td>188235</td>\n",
       "      <td>36.35188</td>\n",
       "      <td>127.37573</td>\n",
       "      <td>모모가든</td>\n",
       "      <td>4</td>\n",
       "      <td>16</td>\n",
       "      <td>2017-07-11 15:56:40</td>\n",
       "    </tr>\n",
       "  </tbody>\n",
       "</table>\n",
       "</div>"
      ],
      "text/plain": [
       "                                             Comment  Member ID  \\\n",
       "0  대전 둔산동에 위치한 퓨전 양식집! 입구부터 내부까지 인테리어도 넘 예쁘고 좋았담 ...     361632   \n",
       "1  음식도 너무 맛있고 분위기도 짱 좋아요!!\\n세명이서 자몽리코타샐러드, 백합마스카포...     567494   \n",
       "2  오랜만에 또 방문한 모모가든이에요. 개인적으로 대전 탑3안에 꼽을 것 같아요!\\n저...      47875   \n",
       "3  모모가든 정말 대전에서 가본 곳 중 최고였어요!!!! 일단 자몽 리코타 치즈 샐러드...      47875   \n",
       "4  타임월드 근처에 있는 집이었다. 가게가 의외로 찾기 쉽지 않았는데 가보니 여기에 이...     533317   \n",
       "\n",
       "  Member Nickname  Rating Restaurant Address  Restaurant ID  \\\n",
       "0            써머칭구       3    대전시 서구 둔산동 1081         188235   \n",
       "1              쌤J       3    대전시 서구 둔산동 1081         188235   \n",
       "2              준영       3    대전시 서구 둔산동 1081         188235   \n",
       "3              준영       3    대전시 서구 둔산동 1081         188235   \n",
       "4               푱       3    대전시 서구 둔산동 1081         188235   \n",
       "\n",
       "   Restaurant Latitude  Restaurant Longitude Restaurant Name  Restaurant code  \\\n",
       "0             36.35188             127.37573            모모가든                4   \n",
       "1             36.35188             127.37573            모모가든                4   \n",
       "2             36.35188             127.37573            모모가든                4   \n",
       "3             36.35188             127.37573            모모가든                4   \n",
       "4             36.35188             127.37573            모모가든                4   \n",
       "\n",
       "   Restaurant subcode                 Time  \n",
       "0                  16  2017-07-07 06:44:19  \n",
       "1                  16  2017-01-27 16:23:00  \n",
       "2                  16  2016-06-17 10:32:42  \n",
       "3                  16  2015-10-10 16:04:11  \n",
       "4                  16  2017-07-11 15:56:40  "
      ]
     },
     "execution_count": 4,
     "metadata": {},
     "output_type": "execute_result"
    }
   ],
   "source": [
    "df = load_data()\n",
    "df.head()"
   ]
  },
  {
   "cell_type": "code",
   "execution_count": 5,
   "metadata": {
    "collapsed": true
   },
   "outputs": [],
   "source": [
    "def get_pref_mats(df):\n",
    "    '''\n",
    "    This function generates the check-in matrix and sentiment-preference matrix\n",
    "    \n",
    "    Input:\n",
    "    df, dataFrame. Return from load_data function\n",
    "\n",
    "    Output:\n",
    "    1. pref_checkin, check-in preference matrix\n",
    "    2. pref_sentiment, sentiment preference matrix\n",
    "    '''\n",
    "    mem_id = sorted(df['Member ID'].unique()); loc_id = sorted(df['Restaurant ID'].unique())\n",
    "    pref_checkin = pd.DataFrame(0, index=mem_id, columns=loc_id)\n",
    "    pref_sentiment = pd.DataFrame(0, index=mem_id, columns=loc_id)\n",
    "    \n",
    "    for index, row in df.iterrows():\n",
    "        # make sentiment preference matrix\n",
    "        member = row['Member ID']; restaurant = row['Restaurant ID']; rating = row['Rating']\n",
    "        pref_sentiment.loc[member, restaurant] = rating\n",
    "        checkin = pref_checkin.loc[member, restaurant]\n",
    "        if checkin == 0:\n",
    "            checkin = 1\n",
    "        elif checkin > 0:\n",
    "            checkin += 1\n",
    "\n",
    "        if checkin >= 3:\n",
    "            checkin = 3\n",
    "\n",
    "        pref_checkin.loc[member, restaurant] = checkin\n",
    "    \n",
    "    pref_checkin = np.array(pref_checkin); pref_sentiment = np.array(pref_sentiment)\n",
    "    return pref_checkin, pref_sentiment"
   ]
  },
  {
   "cell_type": "code",
   "execution_count": 6,
   "metadata": {
    "collapsed": true
   },
   "outputs": [],
   "source": [
    "pref_checkin, pref_sentiment = get_pref_mats(df)"
   ]
  },
  {
   "cell_type": "code",
   "execution_count": 7,
   "metadata": {
    "collapsed": false
   },
   "outputs": [],
   "source": [
    "def compute_pref_final(pref_checkin, pref_sentiment):\n",
    "    '''\n",
    "    This function calculates the final preference matrix. \n",
    "    Equation (1) from the paper\n",
    "    \n",
    "    Input:\n",
    "    1. pref_checkin, check-in preference matrix\n",
    "    2. pref_sentiment, sentiment preference matrix\n",
    "\n",
    "    Output:\n",
    "    pref_final, final preference matrix\n",
    "    '''\n",
    "    pref_final = pref_checkin - np.sign(pref_checkin - pref_sentiment) * np.heaviside(np.abs(pref_checkin - pref_sentiment)-2, 0.5)\n",
    "    return pref_final"
   ]
  },
  {
   "cell_type": "code",
   "execution_count": 8,
   "metadata": {
    "collapsed": false
   },
   "outputs": [
    {
     "name": "stdout",
     "output_type": "stream",
     "text": [
      "(1171, 854)\n"
     ]
    }
   ],
   "source": [
    "Z = 5\n",
    "N = len(df['Member ID'].unique()); I = len(df['Restaurant ID'].unique())\n",
    "pref_final = compute_pref_final(pref_checkin, pref_sentiment)\n",
    "print(pref_final.shape)"
   ]
  },
  {
   "cell_type": "code",
   "execution_count": 9,
   "metadata": {
    "collapsed": false
   },
   "outputs": [],
   "source": [
    "def get_UV(N, I, Z):\n",
    "    U = np.random.rand(N, Z)\n",
    "    V = np.random.rand(Z, I)\n",
    "    \n",
    "    return U, V"
   ]
  },
  {
   "cell_type": "code",
   "execution_count": 10,
   "metadata": {
    "collapsed": true
   },
   "outputs": [],
   "source": [
    "def get_sim_u(pref_final):\n",
    "    '''\n",
    "    This function returns similarity of users\n",
    "\n",
    "    Input: pref_final, which is the return matrix of the compute_pref_final function\n",
    "    Output: similarity of users, N * N matrix\n",
    "    '''\n",
    "    N, _ = pref_final.shape\n",
    "    sim_u = []\n",
    "    for n in range(N):\n",
    "        temp = []\n",
    "        for i in range(N):\n",
    "            temp.append(pearsonr(pref_final[n], pref_final[i])[0])\n",
    "        sim_u.append(temp)\n",
    "\n",
    "    sim_u = np.array(sim_u)\n",
    "    return sim_u\n"
   ]
  },
  {
   "cell_type": "code",
   "execution_count": 11,
   "metadata": {
    "collapsed": true
   },
   "outputs": [],
   "source": [
    "def get_sim_v(df):\n",
    "    '''\n",
    "    For two venues, the similarity score is set to 1 if both venues have the same sub-category in Foursquare\n",
    "    and set 0 if there is no overlapping sub-category\n",
    "\n",
    "    If two restaurants have the same cuisine code, similarity score is set to 1, else 0.\n",
    "    '''\n",
    "    location = []\n",
    "    for index, row in df.iterrows():\n",
    "        tmp = [row['Restaurant ID'], row['Restaurant code']]\n",
    "        if tmp not in location:\n",
    "            location.append(tmp)\n",
    "\n",
    "    sim_v = []\n",
    "    I = len(location)\n",
    "    \n",
    "    for i in range(I):\n",
    "        temp = []\n",
    "        current_code = location[i][1]\n",
    "        for j in range(I):\n",
    "            if location[j][1] == current_code:\n",
    "                temp.append(1)\n",
    "            else:\n",
    "                temp.append(0)\n",
    "        sim_v.append(temp)\n",
    "        \n",
    "    sim_v = np.array(sim_v)\n",
    "    return sim_v"
   ]
  },
  {
   "cell_type": "code",
   "execution_count": 12,
   "metadata": {
    "collapsed": true
   },
   "outputs": [],
   "source": [
    "\n",
    "def get_coefficient(pref_final, sim_u, sim_v, U, V):\n",
    "    '''\n",
    "    lambda_u = sigma^2_R / sigma^2_U\n",
    "    lambda_v = sigma^2_R / sigma^2_V\n",
    "    alpha = sigma^2_R / sigma^2_simU\n",
    "    beta = sigma^2_R / sigma^2_simV\n",
    "    '''\n",
    "    var_R = np.var(pref_final)\n",
    "    lambda_u = var_R / np.var(U)\n",
    "    lambda_v = var_R / np.var(V)\n",
    "    alpha = var_R / np.var(sim_u)\n",
    "    beta = var_R / np.var(sim_v)\n",
    "    \n",
    "    return lambda_u, lambda_v, alpha, beta"
   ]
  },
  {
   "cell_type": "code",
   "execution_count": 28,
   "metadata": {
    "collapsed": true
   },
   "outputs": [],
   "source": [
    "def get_log_posterior(U, V, pref_final, sim_u, sim_v, lambda_u, lambda_v, alpha, beta, N, I, Z):\n",
    "    U = scipy.resize(U, (N, Z))\n",
    "    V = scipy.resize(V, (Z, I))\n",
    "    first_term = np.sum(pref_final - expit(U @ V))\n",
    "    second_term = lambda_u * np.sum(U @ U.T) + lambda_v * np.sum(V @ V.T)\n",
    "    third_term = alpha * np.sum((U - (sim_u @ U)) @ (U - (sim_u @ U)).T)\n",
    "    fourth_term = beta * np.sum((V.T - (sim_v @ V.T)) @ (V.T - (sim_v @ V.T)).T)\n",
    "    log_posterior = 0.5 * (first_term + second_term + third_term + fourth_term)\n",
    "#     print(\"log_posterior:\", log_posterior)\n",
    "    return log_posterior"
   ]
  },
  {
   "cell_type": "code",
   "execution_count": 15,
   "metadata": {
    "collapsed": false
   },
   "outputs": [
    {
     "name": "stdout",
     "output_type": "stream",
     "text": [
      "74.52107787132263\n",
      "[[ 1.         -0.00117233 -0.0016589  ..., -0.00117233 -0.00117233\n",
      "  -0.00117233]\n",
      " [-0.00117233  1.          0.70669218 ..., -0.00117233 -0.00117233\n",
      "  -0.00117233]\n",
      " [-0.0016589   0.70669218  1.         ..., -0.0016589  -0.0016589\n",
      "  -0.0016589 ]\n",
      " ..., \n",
      " [-0.00117233 -0.00117233 -0.0016589  ...,  1.         -0.00117233\n",
      "  -0.00117233]\n",
      " [-0.00117233 -0.00117233 -0.0016589  ..., -0.00117233  1.         -0.00117233]\n",
      " [-0.00117233 -0.00117233 -0.0016589  ..., -0.00117233 -0.00117233  1.        ]]\n"
     ]
    }
   ],
   "source": [
    "start = time.time()\n",
    "U, V = get_UV(N, I, Z)\n",
    "sim_u = get_sim_u(pref_final)\n",
    "sim_v = get_sim_v(df)\n",
    "lambda_u, lambda_v, alpha, beta = get_coefficient(pref_final, sim_u, sim_v, U, V)\n",
    "end = time.time() - start\n",
    "print(end)\n",
    "print(sim_u)"
   ]
  },
  {
   "cell_type": "code",
   "execution_count": 16,
   "metadata": {
    "collapsed": false
   },
   "outputs": [
    {
     "name": "stdout",
     "output_type": "stream",
     "text": [
      "log posterior\n",
      "948263720.437\n",
      "948263720.437\n"
     ]
    }
   ],
   "source": [
    "log_posterior = get_log_posterior(U, V, pref_final, sim_u, sim_v, lambda_u, lambda_v, alpha, beta)\n",
    "print(log_posterior)"
   ]
  },
  {
   "cell_type": "code",
   "execution_count": 29,
   "metadata": {
    "collapsed": false
   },
   "outputs": [],
   "source": [
    "def get_grad_u(U, V, pref_final, sim_u, sim_v, lambda_u, lambda_v, alpha, beta, N, I, Z):\n",
    "    '''\n",
    "    A: U, B: V \n",
    "    '''\n",
    "    U = scipy.resize(U, (N, Z))\n",
    "    V = scipy.resize(V, (Z, I))\n",
    "#     U = U.reshape(1171, 5)\n",
    "\n",
    "#     pdb.set_trace()\n",
    "    grad_u_first = (logistic.pdf(U @ V) * (expit(U @ V) - pref_final)) @ V.T\n",
    "    grad_u_second = lambda_u * U + alpha * (U - sim_u @ U)\n",
    "    grad_u_third = -alpha * (sim_u @ (U - sim_u @ U))\n",
    "    grad_u = grad_u_first + grad_u_second + grad_u_third\n",
    "    grad_u = np.ndarray.flatten(grad_u)\n",
    "#     print(\"gradient_u:\", grad_u)\n",
    "    return grad_u\n",
    "\n",
    "def get_grad_v(U, V, pref_final, sim_u, sim_v, lambda_u, lambda_v, alpha, beta, N, I, Z):\n",
    "#     U = U.reshape(1171, 5)\n",
    "\n",
    "    U = scipy.resize(U, (N, Z))\n",
    "    V = scipy.resize(V, (Z, I))\n",
    "    grad_v_first = (logistic.pdf(U @ V) * (expit(U @ V)-pref_final)).T @ U\n",
    "    grad_v_second = (lambda_v * V).T + beta * (V.T - sim_v @ V.T)\n",
    "    grad_v_third = -beta * (sim_v @ (V.T - sim_v @ V.T))\n",
    "    grad_v = grad_v_first + grad_v_second + grad_v_third\n",
    "    grad_v = np.ndarray.flatten(grad_v)\n",
    "#     print(\"gradient_v:\", grad_v)\n",
    "    return grad_v"
   ]
  },
  {
   "cell_type": "code",
   "execution_count": null,
   "metadata": {
    "collapsed": true
   },
   "outputs": [],
   "source": []
  },
  {
   "cell_type": "code",
   "execution_count": 34,
   "metadata": {
    "collapsed": false,
    "scrolled": false
   },
   "outputs": [
    {
     "name": "stdout",
     "output_type": "stream",
     "text": [
      "---------------------------------------------------------------\n",
      "1 th iteration\n",
      "---------------------------------------------------------------\n",
      "condition value: 0.0\n",
      "U: [[-0.75306978 -0.83532236 -0.92459367 -0.48295363 -0.78143274]\n",
      " [ 0.32773668  0.70252663  0.09724874  0.13565821  0.09000367]\n",
      " [-0.01041188  0.33742857 -0.18191843 -0.36660375 -0.13581435]\n",
      " ..., \n",
      " [-0.6630746  -0.27726652 -0.80753745 -0.06012641 -0.40103471]\n",
      " [-0.99736775 -0.74537994 -1.01984131 -0.16698571 -0.56029732]\n",
      " [-0.0926893  -0.34548037 -0.07123231 -0.95459782 -0.28310296]]\n",
      "V: [[ 0.16973245  0.12354289  0.01700917 ...,  0.32587061  0.80424156\n",
      "   0.38910637]\n",
      " [ 0.41593245  0.20445953  0.80131759 ...,  0.57135617  0.0134101\n",
      "   0.18418824]\n",
      " [ 0.16151429  0.64633566  0.37032339 ...,  0.3325219   0.61526965\n",
      "   0.9062234 ]\n",
      " [ 0.62476066  0.26310118  0.07445813 ...,  0.47399694  0.31408562\n",
      "   0.3650576 ]\n",
      " [ 0.75237087  0.92714424  0.78305655 ...,  0.6987696   0.80300382\n",
      "   0.30874887]]\n",
      "estimated_U: [[-0.75306978 -0.83532236 -0.92459367 -0.48295363 -0.78143274]\n",
      " [ 0.32773668  0.70252663  0.09724874  0.13565821  0.09000367]\n",
      " [-0.01041188  0.33742857 -0.18191843 -0.36660375 -0.13581435]\n",
      " ..., \n",
      " [-0.6630746  -0.27726652 -0.80753745 -0.06012641 -0.40103471]\n",
      " [-0.99736775 -0.74537994 -1.01984131 -0.16698571 -0.56029732]\n",
      " [-0.0926893  -0.34548037 -0.07123231 -0.95459782 -0.28310296]]\n",
      "estimated_V: [[ 0.16973245  0.12354289  0.01700917 ...,  0.32587061  0.80424156\n",
      "   0.38910637]\n",
      " [ 0.41593245  0.20445953  0.80131759 ...,  0.57135617  0.0134101\n",
      "   0.18418824]\n",
      " [ 0.16151429  0.64633566  0.37032339 ...,  0.3325219   0.61526965\n",
      "   0.9062234 ]\n",
      " [ 0.62476066  0.26310118  0.07445813 ...,  0.47399694  0.31408562\n",
      "   0.3650576 ]\n",
      " [ 0.75237087  0.92714424  0.78305655 ...,  0.6987696   0.80300382\n",
      "   0.30874887]]\n",
      "condition: True\n"
     ]
    }
   ],
   "source": [
    "cnt = 0\n",
    "while True:\n",
    "    cnt += 1\n",
    "    print(\"---------------------------------------------------------------\")\n",
    "    print(\"%d th iteration\" % cnt)\n",
    "    print(\"---------------------------------------------------------------\")\n",
    "    u_res = minimize(get_log_posterior,\n",
    "                     x0 = U, args = (V, pref_final, sim_u, sim_v, lambda_u, lambda_v, alpha, beta, N, I, Z),\n",
    "                     jac = get_grad_u)\n",
    "\n",
    "    v_res = minimize(get_log_posterior,\n",
    "                     x0 = V, args = (U, pref_final, sim_u, sim_v, lambda_u, lambda_v, alpha, beta, N, I, Z),\n",
    "                     jac = get_grad_v)\n",
    "\n",
    "    estimated_U = u_res.x.reshape(N, Z)\n",
    "    estimated_V = v_res.x.reshape(Z, I)\n",
    "    \n",
    "    cond = np.sqrt(np.sum(np.square(U - estimated_U)) + np.sum(np.square(V - estimated_V)))\n",
    "    print(\"condition value:\", cond)\n",
    "    print(\"U:\", U)\n",
    "    print(\"V:\", V)\n",
    "    print(\"estimated_U:\", estimated_U)\n",
    "    print(\"estimated_V:\", estimated_V)\n",
    "    condition = cond < 1e-01\n",
    "    print(\"condition:\", condition)\n",
    "\n",
    "    if condition:\n",
    "        break\n",
    "\n",
    "    U, V = estimated_U, estimated_V"
   ]
  },
  {
   "cell_type": "code",
   "execution_count": 24,
   "metadata": {
    "collapsed": false,
    "scrolled": true
   },
   "outputs": [
    {
     "name": "stdout",
     "output_type": "stream",
     "text": [
      "[[-0.75306978 -0.83532236 -0.92459367 -0.48295363 -0.78143274]\n",
      " [ 0.32773668  0.70252663  0.09724874  0.13565821  0.09000367]\n",
      " [-0.01041188  0.33742857 -0.18191843 -0.36660375 -0.13581435]\n",
      " ..., \n",
      " [-0.6630746  -0.27726652 -0.80753745 -0.06012641 -0.40103471]\n",
      " [-0.99736775 -0.74537994 -1.01984131 -0.16698571 -0.56029732]\n",
      " [-0.0926893  -0.34548037 -0.07123231 -0.95459782 -0.28310296]]\n",
      "[[ 0.16973245  0.12354289  0.01700917 ...,  0.32587061  0.80424156\n",
      "   0.38910637]\n",
      " [ 0.41593245  0.20445953  0.80131759 ...,  0.57135617  0.0134101\n",
      "   0.18418824]\n",
      " [ 0.16151429  0.64633566  0.37032339 ...,  0.3325219   0.61526965\n",
      "   0.9062234 ]\n",
      " [ 0.62476066  0.26310118  0.07445813 ...,  0.47399694  0.31408562\n",
      "   0.3650576 ]\n",
      " [ 0.75237087  0.92714424  0.78305655 ...,  0.6987696   0.80300382\n",
      "   0.30874887]]\n"
     ]
    }
   ],
   "source": [
    "# print(estimated_u.x.shape)\n",
    "# print(estimated_v.x.shape)\n",
    "\n",
    "# estimated_u = (estimated_u.x).reshape(1171, 5)\n",
    "# estimated_v = (estimated_v.x).reshape(5, 854)\n",
    "# print(estimated_u.shape)\n",
    "# print(estimated_v.shape)\n",
    "# print(pref_final)\n",
    "# print(estimated_u @ estimated_v)\n",
    "# print(estimated_)\n",
    "print(U)\n",
    "print(V)"
   ]
  },
  {
   "cell_type": "code",
   "execution_count": null,
   "metadata": {
    "collapsed": true
   },
   "outputs": [],
   "source": []
  }
 ],
 "metadata": {
  "kernelspec": {
   "display_name": "Python 3",
   "language": "python",
   "name": "python3"
  },
  "language_info": {
   "codemirror_mode": {
    "name": "ipython",
    "version": 3
   },
   "file_extension": ".py",
   "mimetype": "text/x-python",
   "name": "python",
   "nbconvert_exporter": "python",
   "pygments_lexer": "ipython3",
   "version": "3.6.0"
  }
 },
 "nbformat": 4,
 "nbformat_minor": 2
}
