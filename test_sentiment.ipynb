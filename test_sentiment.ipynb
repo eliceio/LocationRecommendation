{
 "cells": [
  {
   "cell_type": "code",
   "execution_count": 1,
   "metadata": {
    "collapsed": true
   },
   "outputs": [],
   "source": [
    "import pandas as pd\n",
    "import numpy as np\n",
    "# numpy version should be 1.13, because of the heaviside function"
   ]
  },
  {
   "cell_type": "code",
   "execution_count": 9,
   "metadata": {
    "collapsed": true
   },
   "outputs": [],
   "source": [
    "def load_data():\n",
    "    df = pd.read_csv('data/daejeon.csv', delimiter='\\t', index_col=False)\n",
    "    return df"
   ]
  },
  {
   "cell_type": "code",
   "execution_count": 11,
   "metadata": {
    "collapsed": false
   },
   "outputs": [],
   "source": [
    "df = load_data()"
   ]
  },
  {
   "cell_type": "code",
   "execution_count": 18,
   "metadata": {
    "collapsed": true
   },
   "outputs": [],
   "source": [
    "def get_pref_mats(df):\n",
    "    '''\n",
    "    This function generates the check-in matrix and sentiment-preference matrix\n",
    "    \n",
    "    Input:\n",
    "    df, dataFrame. Return from load_data function\n",
    "\n",
    "    Output:\n",
    "    1. pref_checkin, check-in preference matrix\n",
    "    2. pref_sentiment, sentiment preference matrix\n",
    "    '''\n",
    "    mem_id = sorted(df['Member ID'].unique()); loc_id = sorted(df['Restaurant ID'].unique())\n",
    "    pref_checkin = pd.DataFrame(0, index=mem_id, columns=loc_id)\n",
    "    pref_sentiment = pd.DataFrame(0, index=mem_id, columns=loc_id)\n",
    "    \n",
    "    for index, row in df.iterrows():\n",
    "        # make sentiment preference matrix\n",
    "        member = row['Member ID']; restaurant = row['Restaurant ID']; rating = row['Rating']\n",
    "        pref_sentiment.loc[member, restaurant] = rating\n",
    "        checkin = pref_checkin.loc[member, restaurant]\n",
    "        if checkin == 0:\n",
    "            checkin = 1\n",
    "        elif checkin > 0:\n",
    "            checkin += 1\n",
    "\n",
    "        if checkin >= 3:\n",
    "            checkin = 3\n",
    "\n",
    "        pref_checkin.loc[member, restaurant] = checkin\n",
    "    \n",
    "    pref_checkin = np.array(pref_checkin); pref_sentiment = np.array(pref_sentiment)\n",
    "    return pref_checkin, pref_sentiment"
   ]
  },
  {
   "cell_type": "code",
   "execution_count": 19,
   "metadata": {
    "collapsed": true
   },
   "outputs": [],
   "source": [
    "pref_checkin, pref_sentiment = get_pref_mats(df)"
   ]
  },
  {
   "cell_type": "code",
   "execution_count": 25,
   "metadata": {
    "collapsed": false
   },
   "outputs": [
    {
     "name": "stdout",
     "output_type": "stream",
     "text": [
      "1.12.1\n"
     ]
    },
    {
     "ename": "AttributeError",
     "evalue": "module 'numpy' has no attribute 'heaviside'",
     "output_type": "error",
     "traceback": [
      "\u001b[0;31m---------------------------------------------------------------------------\u001b[0m",
      "\u001b[0;31mAttributeError\u001b[0m                            Traceback (most recent call last)",
      "\u001b[0;32m<ipython-input-25-dac5c915b98c>\u001b[0m in \u001b[0;36m<module>\u001b[0;34m()\u001b[0m\n\u001b[1;32m      1\u001b[0m \u001b[0mvalue1\u001b[0m \u001b[0;34m=\u001b[0m \u001b[0mnp\u001b[0m\u001b[0;34m.\u001b[0m\u001b[0msign\u001b[0m\u001b[0;34m(\u001b[0m\u001b[0mpref_checkin\u001b[0m \u001b[0;34m-\u001b[0m \u001b[0mpref_sentiment\u001b[0m\u001b[0;34m)\u001b[0m\u001b[0;34m\u001b[0m\u001b[0m\n\u001b[1;32m      2\u001b[0m \u001b[0mprint\u001b[0m\u001b[0;34m(\u001b[0m\u001b[0mnp\u001b[0m\u001b[0;34m.\u001b[0m\u001b[0m__version__\u001b[0m\u001b[0;34m)\u001b[0m\u001b[0;34m\u001b[0m\u001b[0m\n\u001b[0;32m----> 3\u001b[0;31m \u001b[0mvalue2\u001b[0m \u001b[0;34m=\u001b[0m \u001b[0mnp\u001b[0m\u001b[0;34m.\u001b[0m\u001b[0mheaviside\u001b[0m\u001b[0;34m(\u001b[0m\u001b[0mnp\u001b[0m\u001b[0;34m.\u001b[0m\u001b[0mabs\u001b[0m\u001b[0;34m(\u001b[0m\u001b[0mpref_checkin\u001b[0m \u001b[0;34m-\u001b[0m \u001b[0mpref_sentiment\u001b[0m\u001b[0;34m)\u001b[0m\u001b[0;34m-\u001b[0m\u001b[0;36m2\u001b[0m\u001b[0;34m)\u001b[0m\u001b[0;34m\u001b[0m\u001b[0m\n\u001b[0m\u001b[1;32m      4\u001b[0m \u001b[0mprint\u001b[0m\u001b[0;34m(\u001b[0m\u001b[0mvalue2\u001b[0m\u001b[0;34m)\u001b[0m\u001b[0;34m\u001b[0m\u001b[0m\n",
      "\u001b[0;31mAttributeError\u001b[0m: module 'numpy' has no attribute 'heaviside'"
     ]
    }
   ],
   "source": [
    "value1 = np.sign(pref_checkin - pref_sentiment)\n",
    "print(np.__version__)\n",
    "value2 = np.heaviside(np.abs(pref_checkin - pref_sentiment)-2)\n",
    "print(value2)"
   ]
  },
  {
   "cell_type": "code",
   "execution_count": null,
   "metadata": {
    "collapsed": true
   },
   "outputs": [],
   "source": []
  }
 ],
 "metadata": {
  "kernelspec": {
   "display_name": "Python 3",
   "language": "python",
   "name": "python3"
  },
  "language_info": {
   "codemirror_mode": {
    "name": "ipython",
    "version": 3
   },
   "file_extension": ".py",
   "mimetype": "text/x-python",
   "name": "python",
   "nbconvert_exporter": "python",
   "pygments_lexer": "ipython3",
   "version": "3.6.0"
  }
 },
 "nbformat": 4,
 "nbformat_minor": 2
}
