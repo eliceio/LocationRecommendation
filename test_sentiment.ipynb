{
 "cells": [
  {
   "cell_type": "code",
   "execution_count": 5,
   "metadata": {
    "collapsed": false
   },
   "outputs": [],
   "source": [
    "import pandas as pd\n",
    "import numpy as np\n",
    "import scipy\n",
    "# numpy version should be 1.13, because of the heaviside function\n",
    "from scipy.stats import pearsonr, logistic\n",
    "from scipy.special import expit\n",
    "from scipy.spatial.distance import squareform\n",
    "from scipy.optimize import minimize\n",
    "import time\n",
    "import pdb"
   ]
  },
  {
   "cell_type": "code",
   "execution_count": 6,
   "metadata": {
    "collapsed": true
   },
   "outputs": [],
   "source": [
    "def load_data():\n",
    "    df = pd.read_csv('data/Daejeon_dataset.csv', delimiter='\\t', index_col=False)\n",
    "    return df"
   ]
  },
  {
   "cell_type": "code",
   "execution_count": 7,
   "metadata": {
    "collapsed": true
   },
   "outputs": [],
   "source": [
    "def get_pref_mats(df):\n",
    "    '''\n",
    "    This function generates the check-in matrix and sentiment-preference matrix\n",
    "    \n",
    "    Input:\n",
    "    df, dataFrame. Return from load_data function\n",
    "\n",
    "    Output:\n",
    "    1. pref_checkin, check-in preference matrix\n",
    "    2. pref_sentiment, sentiment preference matrix\n",
    "    '''\n",
    "    mem_id = sorted(df['Member ID'].unique()); loc_id = sorted(df['Restaurant ID'].unique())\n",
    "    pref_checkin = pd.DataFrame(0, index=mem_id, columns=loc_id)\n",
    "    pref_sentiment = pd.DataFrame(0, index=mem_id, columns=loc_id)\n",
    "    \n",
    "    for index, row in df.iterrows():\n",
    "        # make sentiment preference matrix\n",
    "        member = row['Member ID']; restaurant = row['Restaurant ID']; rating = row['Rating']\n",
    "        pref_sentiment.loc[member, restaurant] = rating\n",
    "        checkin = pref_checkin.loc[member, restaurant]\n",
    "        if checkin == 0:\n",
    "            checkin = 1\n",
    "        elif checkin > 0:\n",
    "            checkin += 1\n",
    "\n",
    "        if checkin >= 3:\n",
    "            checkin = 3\n",
    "\n",
    "        pref_checkin.loc[member, restaurant] = checkin\n",
    "    \n",
    "    pref_checkin = np.array(pref_checkin); pref_sentiment = np.array(pref_sentiment)\n",
    "    return pref_checkin, pref_sentiment"
   ]
  },
  {
   "cell_type": "code",
   "execution_count": 8,
   "metadata": {
    "collapsed": false
   },
   "outputs": [],
   "source": [
    "df = load_data()\n",
    "pref_checkin, pref_sentiment = get_pref_mats(df)"
   ]
  },
  {
   "cell_type": "code",
   "execution_count": 9,
   "metadata": {
    "collapsed": false
   },
   "outputs": [],
   "source": [
    "def compute_pref_final(pref_checkin, pref_sentiment):\n",
    "    '''\n",
    "    This function calculates the final preference matrix. \n",
    "    Equation (1) from the paper\n",
    "    \n",
    "    Input:\n",
    "    1. pref_checkin, check-in preference matrix\n",
    "    2. pref_sentiment, sentiment preference matrix\n",
    "\n",
    "    Output:\n",
    "    pref_final, final preference matrix\n",
    "    '''\n",
    "    pref_final = pref_checkin - np.sign(pref_checkin - pref_sentiment) * np.heaviside(np.abs(pref_checkin - pref_sentiment)-2, 0.5)\n",
    "    return pref_final"
   ]
  },
  {
   "cell_type": "code",
   "execution_count": 10,
   "metadata": {
    "collapsed": false
   },
   "outputs": [
    {
     "name": "stdout",
     "output_type": "stream",
     "text": [
      "(1171, 854)\n"
     ]
    }
   ],
   "source": [
    "Z = 5\n",
    "N = len(df['Member ID'].unique()); I = len(df['Restaurant ID'].unique())\n",
    "pref_final = compute_pref_final(pref_checkin, pref_sentiment)\n",
    "print(pref_final.shape)"
   ]
  },
  {
   "cell_type": "code",
   "execution_count": 11,
   "metadata": {
    "collapsed": false
   },
   "outputs": [],
   "source": [
    "def get_UV(N, I, Z):\n",
    "    U = np.random.rand(N, Z)\n",
    "    V = np.random.rand(Z, I)\n",
    "    \n",
    "    return U, V"
   ]
  },
  {
   "cell_type": "code",
   "execution_count": 12,
   "metadata": {
    "collapsed": true
   },
   "outputs": [],
   "source": [
    "def get_sim_u(pref_final):\n",
    "    '''\n",
    "    This function returns similarity of users\n",
    "\n",
    "    Input: pref_final, which is the return matrix of the compute_pref_final function\n",
    "    Output: similarity of users, N * N matrix\n",
    "    '''\n",
    "    N, _ = pref_final.shape\n",
    "    sim_u = []\n",
    "    for n in range(N):\n",
    "        temp = []\n",
    "        for i in range(N):\n",
    "            temp.append(pearsonr(pref_final[n], pref_final[i])[0])\n",
    "        sim_u.append(temp)\n",
    "\n",
    "    sim_u = np.array(sim_u)\n",
    "    return sim_u\n"
   ]
  },
  {
   "cell_type": "code",
   "execution_count": 13,
   "metadata": {
    "collapsed": true
   },
   "outputs": [],
   "source": [
    "def get_sim_v(df):\n",
    "    '''\n",
    "    For two venues, the similarity score is set to 1 if both venues have the same sub-category in Foursquare\n",
    "    and set 0 if there is no overlapping sub-category\n",
    "\n",
    "    If two restaurants have the same cuisine code, similarity score is set to 1, else 0.\n",
    "    '''\n",
    "    location = []\n",
    "    for index, row in df.iterrows():\n",
    "        tmp = [row['Restaurant ID'], row['Restaurant code']]\n",
    "        if tmp not in location:\n",
    "            location.append(tmp)\n",
    "\n",
    "    sim_v = []\n",
    "    I = len(location)\n",
    "    \n",
    "    for i in range(I):\n",
    "        temp = []\n",
    "        current_code = location[i][1]\n",
    "        for j in range(I):\n",
    "            if location[j][1] == current_code:\n",
    "                temp.append(1)\n",
    "            else:\n",
    "                temp.append(0)\n",
    "        sim_v.append(temp)\n",
    "        \n",
    "    sim_v = np.array(sim_v)\n",
    "    return sim_v"
   ]
  },
  {
   "cell_type": "code",
   "execution_count": 14,
   "metadata": {
    "collapsed": true
   },
   "outputs": [],
   "source": [
    "\n",
    "def get_coefficient(pref_final, sim_u, sim_v, U, V):\n",
    "    '''\n",
    "    lambda_u = sigma^2_R / sigma^2_U\n",
    "    lambda_v = sigma^2_R / sigma^2_V\n",
    "    alpha = sigma^2_R / sigma^2_simU\n",
    "    beta = sigma^2_R / sigma^2_simV\n",
    "    '''\n",
    "    var_R = np.var(pref_final)\n",
    "    lambda_u = var_R / np.var(U)\n",
    "    lambda_v = var_R / np.var(V)\n",
    "    alpha = var_R / np.var(sim_u)\n",
    "    beta = var_R / np.var(sim_v)\n",
    "    \n",
    "    return lambda_u, lambda_v, alpha, beta"
   ]
  },
  {
   "cell_type": "code",
   "execution_count": 15,
   "metadata": {
    "collapsed": true
   },
   "outputs": [],
   "source": [
    "def get_log_posterior(U, V, pref_final, sim_u, sim_v, lambda_u, lambda_v, alpha, beta, N, I, Z):\n",
    "    U = scipy.resize(U, (N, Z))\n",
    "    V = scipy.resize(V, (Z, I))\n",
    "    first_term = np.sum(pref_final - expit(U @ V))\n",
    "    second_term = lambda_u * np.sum(U @ U.T) + lambda_v * np.sum(V @ V.T)\n",
    "    third_term = alpha * np.sum((U - (sim_u @ U)) @ (U - (sim_u @ U)).T)\n",
    "    fourth_term = beta * np.sum((V.T - (sim_v @ V.T)) @ (V.T - (sim_v @ V.T)).T)\n",
    "    log_posterior = 0.5 * (first_term + second_term + third_term + fourth_term)\n",
    "#     print(\"log_posterior:\", log_posterior)\n",
    "    return log_posterior"
   ]
  },
  {
   "cell_type": "code",
   "execution_count": 16,
   "metadata": {
    "collapsed": false
   },
   "outputs": [
    {
     "name": "stdout",
     "output_type": "stream",
     "text": [
      "78.11264824867249\n",
      "[[ 1.         -0.00117233 -0.0016589  ..., -0.00117233 -0.00117233\n",
      "  -0.00117233]\n",
      " [-0.00117233  1.          0.70669218 ..., -0.00117233 -0.00117233\n",
      "  -0.00117233]\n",
      " [-0.0016589   0.70669218  1.         ..., -0.0016589  -0.0016589\n",
      "  -0.0016589 ]\n",
      " ..., \n",
      " [-0.00117233 -0.00117233 -0.0016589  ...,  1.         -0.00117233\n",
      "  -0.00117233]\n",
      " [-0.00117233 -0.00117233 -0.0016589  ..., -0.00117233  1.         -0.00117233]\n",
      " [-0.00117233 -0.00117233 -0.0016589  ..., -0.00117233 -0.00117233  1.        ]]\n"
     ]
    }
   ],
   "source": [
    "start = time.time()\n",
    "U, V = get_UV(N, I, Z)\n",
    "sim_u = get_sim_u(pref_final)\n",
    "sim_v = get_sim_v(df)\n",
    "lambda_u, lambda_v, alpha, beta = get_coefficient(pref_final, sim_u, sim_v, U, V)\n",
    "end = time.time() - start\n",
    "print(end)\n",
    "print(sim_u)"
   ]
  },
  {
   "cell_type": "code",
   "execution_count": 18,
   "metadata": {
    "collapsed": false
   },
   "outputs": [
    {
     "name": "stdout",
     "output_type": "stream",
     "text": [
      "958154307.692\n"
     ]
    }
   ],
   "source": [
    "log_posterior = get_log_posterior(U, V, pref_final, sim_u, sim_v, lambda_u, lambda_v, alpha, beta, N, I, Z)\n",
    "print(log_posterior)"
   ]
  },
  {
   "cell_type": "code",
   "execution_count": 19,
   "metadata": {
    "collapsed": false
   },
   "outputs": [],
   "source": [
    "def get_grad_u(U, V, pref_final, sim_u, sim_v, lambda_u, lambda_v, alpha, beta, N, I, Z):\n",
    "    '''\n",
    "    A: U, B: V \n",
    "    '''\n",
    "    U = scipy.resize(U, (N, Z))\n",
    "    V = scipy.resize(V, (Z, I))\n",
    "#     U = U.reshape(1171, 5)\n",
    "\n",
    "#     pdb.set_trace()\n",
    "    grad_u_first = (logistic.pdf(U @ V) * (expit(U @ V) - pref_final)) @ V.T\n",
    "    grad_u_second = lambda_u * U + alpha * (U - sim_u @ U)\n",
    "    grad_u_third = -alpha * (sim_u @ (U - sim_u @ U))\n",
    "    grad_u = grad_u_first + grad_u_second + grad_u_third\n",
    "    grad_u = np.ndarray.flatten(grad_u)\n",
    "#     print(\"gradient_u:\", grad_u)\n",
    "    return grad_u\n",
    "\n",
    "def get_grad_v(U, V, pref_final, sim_u, sim_v, lambda_u, lambda_v, alpha, beta, N, I, Z):\n",
    "#     U = U.reshape(1171, 5)\n",
    "\n",
    "    U = scipy.resize(U, (N, Z))\n",
    "    V = scipy.resize(V, (Z, I))\n",
    "    grad_v_first = (logistic.pdf(U @ V) * (expit(U @ V)-pref_final)).T @ U\n",
    "    grad_v_second = (lambda_v * V).T + beta * (V.T - sim_v @ V.T)\n",
    "    grad_v_third = -beta * (sim_v @ (V.T - sim_v @ V.T))\n",
    "    grad_v = grad_v_first + grad_v_second + grad_v_third\n",
    "    grad_v = np.ndarray.flatten(grad_v)\n",
    "#     print(\"gradient_v:\", grad_v)\n",
    "    return grad_v"
   ]
  },
  {
   "cell_type": "code",
   "execution_count": null,
   "metadata": {
    "collapsed": true
   },
   "outputs": [],
   "source": []
  },
  {
   "cell_type": "code",
   "execution_count": 20,
   "metadata": {
    "collapsed": false,
    "scrolled": false
   },
   "outputs": [
    {
     "name": "stdout",
     "output_type": "stream",
     "text": [
      "---------------------------------------------------------------\n",
      "1 th iteration\n",
      "---------------------------------------------------------------\n"
     ]
    },
    {
     "name": "stderr",
     "output_type": "stream",
     "text": [
      "/Users/Lumin/anaconda3/lib/python3.6/site-packages/scipy/stats/_continuous_distns.py:3060: RuntimeWarning: overflow encountered in exp\n",
      "  return -x - 2. * sc.log1p(np.exp(-x))\n"
     ]
    },
    {
     "name": "stdout",
     "output_type": "stream",
     "text": [
      "condition value: 85.3114288879\n",
      "U: [[ 0.26787989  0.0497855   0.35808054  0.70019963  0.1449181 ]\n",
      " [ 0.52997257  0.08187515  0.90931762  0.51978989  0.08713174]\n",
      " [ 0.95832126  0.58291143  0.42874396  0.73744857  0.9306805 ]\n",
      " ..., \n",
      " [ 0.66144285  0.69538433  0.11971926  0.01538377  0.31769275]\n",
      " [ 0.60878521  0.43905141  0.31765034  0.5123209   0.26501237]\n",
      " [ 0.01332782  0.16929433  0.121651    0.9910458   0.72520759]]\n",
      "V: [[ 0.29174646  0.09987541  0.65215621 ...,  0.55594912  0.57337583\n",
      "   0.6126712 ]\n",
      " [ 0.14396818  0.93760949  0.61922026 ...,  0.71252439  0.89533332\n",
      "   0.6796808 ]\n",
      " [ 0.55934627  0.86656676  0.87829258 ...,  0.11597187  0.55112714\n",
      "   0.9941208 ]\n",
      " [ 0.08974699  0.16219807  0.45280324 ...,  0.78923997  0.54680038\n",
      "   0.55744621]\n",
      " [ 0.21954665  0.70219724  0.76997909 ...,  0.86280184  0.47324486\n",
      "   0.77029299]]\n",
      "estimated_U: [[-1.10161026 -1.18378978 -1.10386407 -0.67314731 -1.19204213]\n",
      " [ 0.60013617  0.15029873  0.9100951   0.55898898  0.18771146]\n",
      " [ 0.65639714  0.23128143  0.09080824  0.41732002  0.60660112]\n",
      " ..., \n",
      " [-0.51202213 -0.42712124 -1.04028694 -1.08887054 -0.82883995]\n",
      " [-0.5590448  -0.6744346  -0.85228057 -0.60232526 -0.88149489]\n",
      " [-1.14608811 -0.93570032 -1.04114975 -0.12465046 -0.42388496]]\n",
      "estimated_V: [[ 0.29174646  0.09987541  0.65215621 ...,  0.55594912  0.57337583\n",
      "   0.6126712 ]\n",
      " [ 0.14396818  0.93760949  0.61922026 ...,  0.71252439  0.89533332\n",
      "   0.6796808 ]\n",
      " [ 0.55934627  0.86656676  0.87829258 ...,  0.11597187  0.55112714\n",
      "   0.9941208 ]\n",
      " [ 0.08974699  0.16219807  0.45280324 ...,  0.78923997  0.54680038\n",
      "   0.55744621]\n",
      " [ 0.21954665  0.70219724  0.76997909 ...,  0.86280184  0.47324486\n",
      "   0.77029299]]\n",
      "condition: False\n",
      "---------------------------------------------------------------\n",
      "2 th iteration\n",
      "---------------------------------------------------------------\n",
      "condition value: 9.53327708078\n",
      "U: [[-1.10161026 -1.18378978 -1.10386407 -0.67314731 -1.19204213]\n",
      " [ 0.60013617  0.15029873  0.9100951   0.55898898  0.18771146]\n",
      " [ 0.65639714  0.23128143  0.09080824  0.41732002  0.60660112]\n",
      " ..., \n",
      " [-0.51202213 -0.42712124 -1.04028694 -1.08887054 -0.82883995]\n",
      " [-0.5590448  -0.6744346  -0.85228057 -0.60232526 -0.88149489]\n",
      " [-1.14608811 -0.93570032 -1.04114975 -0.12465046 -0.42388496]]\n",
      "V: [[ 0.29174646  0.09987541  0.65215621 ...,  0.55594912  0.57337583\n",
      "   0.6126712 ]\n",
      " [ 0.14396818  0.93760949  0.61922026 ...,  0.71252439  0.89533332\n",
      "   0.6796808 ]\n",
      " [ 0.55934627  0.86656676  0.87829258 ...,  0.11597187  0.55112714\n",
      "   0.9941208 ]\n",
      " [ 0.08974699  0.16219807  0.45280324 ...,  0.78923997  0.54680038\n",
      "   0.55744621]\n",
      " [ 0.21954665  0.70219724  0.76997909 ...,  0.86280184  0.47324486\n",
      "   0.77029299]]\n",
      "estimated_U: [[-0.92258245 -1.01314689 -0.92574109 -0.50447019 -1.01568746]\n",
      " [ 0.35768293 -0.06787001  0.67661791  0.33716716 -0.03612261]\n",
      " [ 0.45122937  0.04449068 -0.10344978  0.22886352  0.4134234 ]\n",
      " ..., \n",
      " [-0.53246196 -0.44754795 -1.0587129  -1.10587153 -0.84793149]\n",
      " [-0.58536471 -0.69930848 -0.87767764 -0.62741378 -0.90589545]\n",
      " [-1.16677995 -0.95658841 -1.0630348  -0.14930313 -0.44814663]]\n",
      "estimated_V: [[ 0.29174646  0.09987541  0.65215621 ...,  0.55594912  0.57337583\n",
      "   0.6126712 ]\n",
      " [ 0.14396818  0.93760949  0.61922026 ...,  0.71252439  0.89533332\n",
      "   0.6796808 ]\n",
      " [ 0.55934627  0.86656676  0.87829258 ...,  0.11597187  0.55112714\n",
      "   0.9941208 ]\n",
      " [ 0.08974699  0.16219807  0.45280324 ...,  0.78923997  0.54680038\n",
      "   0.55744621]\n",
      " [ 0.21954665  0.70219724  0.76997909 ...,  0.86280184  0.47324486\n",
      "   0.77029299]]\n",
      "condition: False\n",
      "---------------------------------------------------------------\n",
      "3 th iteration\n",
      "---------------------------------------------------------------\n",
      "condition value: 0.0\n",
      "U: [[-0.92258245 -1.01314689 -0.92574109 -0.50447019 -1.01568746]\n",
      " [ 0.35768293 -0.06787001  0.67661791  0.33716716 -0.03612261]\n",
      " [ 0.45122937  0.04449068 -0.10344978  0.22886352  0.4134234 ]\n",
      " ..., \n",
      " [-0.53246196 -0.44754795 -1.0587129  -1.10587153 -0.84793149]\n",
      " [-0.58536471 -0.69930848 -0.87767764 -0.62741378 -0.90589545]\n",
      " [-1.16677995 -0.95658841 -1.0630348  -0.14930313 -0.44814663]]\n",
      "V: [[ 0.29174646  0.09987541  0.65215621 ...,  0.55594912  0.57337583\n",
      "   0.6126712 ]\n",
      " [ 0.14396818  0.93760949  0.61922026 ...,  0.71252439  0.89533332\n",
      "   0.6796808 ]\n",
      " [ 0.55934627  0.86656676  0.87829258 ...,  0.11597187  0.55112714\n",
      "   0.9941208 ]\n",
      " [ 0.08974699  0.16219807  0.45280324 ...,  0.78923997  0.54680038\n",
      "   0.55744621]\n",
      " [ 0.21954665  0.70219724  0.76997909 ...,  0.86280184  0.47324486\n",
      "   0.77029299]]\n",
      "estimated_U: [[-0.92258245 -1.01314689 -0.92574109 -0.50447019 -1.01568746]\n",
      " [ 0.35768293 -0.06787001  0.67661791  0.33716716 -0.03612261]\n",
      " [ 0.45122937  0.04449068 -0.10344978  0.22886352  0.4134234 ]\n",
      " ..., \n",
      " [-0.53246196 -0.44754795 -1.0587129  -1.10587153 -0.84793149]\n",
      " [-0.58536471 -0.69930848 -0.87767764 -0.62741378 -0.90589545]\n",
      " [-1.16677995 -0.95658841 -1.0630348  -0.14930313 -0.44814663]]\n",
      "estimated_V: [[ 0.29174646  0.09987541  0.65215621 ...,  0.55594912  0.57337583\n",
      "   0.6126712 ]\n",
      " [ 0.14396818  0.93760949  0.61922026 ...,  0.71252439  0.89533332\n",
      "   0.6796808 ]\n",
      " [ 0.55934627  0.86656676  0.87829258 ...,  0.11597187  0.55112714\n",
      "   0.9941208 ]\n",
      " [ 0.08974699  0.16219807  0.45280324 ...,  0.78923997  0.54680038\n",
      "   0.55744621]\n",
      " [ 0.21954665  0.70219724  0.76997909 ...,  0.86280184  0.47324486\n",
      "   0.77029299]]\n",
      "condition: True\n"
     ]
    }
   ],
   "source": [
    "cnt = 0\n",
    "while True:\n",
    "    cnt += 1\n",
    "    print(\"---------------------------------------------------------------\")\n",
    "    print(\"%d th iteration\" % cnt)\n",
    "    print(\"---------------------------------------------------------------\")\n",
    "    u_res = minimize(get_log_posterior,\n",
    "                     x0 = U, args = (V, pref_final, sim_u, sim_v, lambda_u, lambda_v, alpha, beta, N, I, Z),\n",
    "                     jac = get_grad_u)\n",
    "\n",
    "    v_res = minimize(get_log_posterior,\n",
    "                     x0 = V, args = (U, pref_final, sim_u, sim_v, lambda_u, lambda_v, alpha, beta, N, I, Z),\n",
    "                     jac = get_grad_v)\n",
    "\n",
    "    estimated_U = u_res.x.reshape(N, Z)\n",
    "    estimated_V = v_res.x.reshape(Z, I)\n",
    "    \n",
    "    cond = np.sqrt(np.sum(np.square(U - estimated_U)) + np.sum(np.square(V - estimated_V)))\n",
    "    print(\"condition value:\", cond)\n",
    "    print(\"U:\", U)\n",
    "    print(\"V:\", V)\n",
    "    print(\"estimated_U:\", estimated_U)\n",
    "    print(\"estimated_V:\", estimated_V)\n",
    "    condition = cond < 1e-01\n",
    "    print(\"condition:\", condition)\n",
    "\n",
    "    if condition:\n",
    "        break\n",
    "\n",
    "    U, V = estimated_U, estimated_V"
   ]
  },
  {
   "cell_type": "code",
   "execution_count": 37,
   "metadata": {
    "collapsed": false
   },
   "outputs": [
    {
     "name": "stdout",
     "output_type": "stream",
     "text": [
      "1.4786886481\n",
      "1.662952847\n"
     ]
    }
   ],
   "source": [
    "MAE, RMSE = compute_metrics(U, V, pref_final)\n",
    "print(MAE)\n",
    "print(RMSE)"
   ]
  },
  {
   "cell_type": "code",
   "execution_count": 36,
   "metadata": {
    "collapsed": true
   },
   "outputs": [],
   "source": [
    "def compute_metrics(U, V, pref_final):\n",
    "    R_hat = U @ V\n",
    "    T = pref_final.shape[0] * pref_final.shape[1]\n",
    "    MAE = np.sum(np.abs(pref_final - R_hat)) / T\n",
    "    RMSE = np.sqrt(np.sum(np.square(pref_final - R_hat)) / T)\n",
    "    return MAE, RMSE"
   ]
  },
  {
   "cell_type": "code",
   "execution_count": 52,
   "metadata": {
    "collapsed": false
   },
   "outputs": [],
   "source": [
    "pref_final\n",
    "test = np.zeros(pref_final.shape)\n",
    "train = pref_final.copy()\n",
    "for user in range(pref_final.shape[0]):\n",
    "    visited = pref_final[user, :].nonzero()[0]\n",
    "    if len(visited) == 1:\n",
    "        pass\n",
    "    elif len(visited) > 3:\n",
    "        test_pref = np.random.choice(pref_final[user, :].nonzero()[0], size=3, replace=False)\n",
    "        train[user, test_pref] = 0.\n",
    "        test[user, test_pref] = pref_final[user, test_pref]\n",
    "    \n",
    "assert(np.all((train * test) == 0))\n"
   ]
  },
  {
   "cell_type": "code",
   "execution_count": 66,
   "metadata": {
    "collapsed": false
   },
   "outputs": [
    {
     "name": "stdout",
     "output_type": "stream",
     "text": [
      "(854, 854)\n",
      "1.0\n",
      "16\n",
      "1.0\n"
     ]
    }
   ],
   "source": [
    "print(sim_v.shape)\n",
    "print(np.amax(sim_u[0][1:]))\n",
    "print(np.argmax(sim_u[0][1:]))\n",
    "print(sim_u[0][17])"
   ]
  }
 ],
 "metadata": {
  "kernelspec": {
   "display_name": "Python 3",
   "language": "python",
   "name": "python3"
  },
  "language_info": {
   "codemirror_mode": {
    "name": "ipython",
    "version": 3
   },
   "file_extension": ".py",
   "mimetype": "text/x-python",
   "name": "python",
   "nbconvert_exporter": "python",
   "pygments_lexer": "ipython3",
   "version": "3.6.0"
  }
 },
 "nbformat": 4,
 "nbformat_minor": 2
}
