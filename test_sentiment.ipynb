{
 "cells": [
  {
   "cell_type": "code",
   "execution_count": 1,
   "metadata": {
    "collapsed": false
   },
   "outputs": [],
   "source": [
    "import pandas as pd\n",
    "import numpy as np\n",
    "# numpy version should be 1.13, because of the heaviside function\n",
    "from scipy.stats import pearsonr\n",
    "from scipy.spatial.distance import squareform"
   ]
  },
  {
   "cell_type": "code",
   "execution_count": 2,
   "metadata": {
    "collapsed": false
   },
   "outputs": [
    {
     "name": "stdout",
     "output_type": "stream",
     "text": [
      "1.13.1\n"
     ]
    }
   ],
   "source": [
    "print(np.__version__)"
   ]
  },
  {
   "cell_type": "code",
   "execution_count": 3,
   "metadata": {
    "collapsed": true
   },
   "outputs": [],
   "source": [
    "def load_data():\n",
    "    df = pd.read_csv('data/daejeon.csv', delimiter='\\t', index_col=False)\n",
    "    return df"
   ]
  },
  {
   "cell_type": "code",
   "execution_count": 4,
   "metadata": {
    "collapsed": false
   },
   "outputs": [],
   "source": [
    "df = load_data()"
   ]
  },
  {
   "cell_type": "code",
   "execution_count": 5,
   "metadata": {
    "collapsed": true
   },
   "outputs": [],
   "source": [
    "def get_pref_mats(df):\n",
    "    '''\n",
    "    This function generates the check-in matrix and sentiment-preference matrix\n",
    "    \n",
    "    Input:\n",
    "    df, dataFrame. Return from load_data function\n",
    "\n",
    "    Output:\n",
    "    1. pref_checkin, check-in preference matrix\n",
    "    2. pref_sentiment, sentiment preference matrix\n",
    "    '''\n",
    "    mem_id = sorted(df['Member ID'].unique()); loc_id = sorted(df['Restaurant ID'].unique())\n",
    "    pref_checkin = pd.DataFrame(0, index=mem_id, columns=loc_id)\n",
    "    pref_sentiment = pd.DataFrame(0, index=mem_id, columns=loc_id)\n",
    "    \n",
    "    for index, row in df.iterrows():\n",
    "        # make sentiment preference matrix\n",
    "        member = row['Member ID']; restaurant = row['Restaurant ID']; rating = row['Rating']\n",
    "        pref_sentiment.loc[member, restaurant] = rating\n",
    "        checkin = pref_checkin.loc[member, restaurant]\n",
    "        if checkin == 0:\n",
    "            checkin = 1\n",
    "        elif checkin > 0:\n",
    "            checkin += 1\n",
    "\n",
    "        if checkin >= 3:\n",
    "            checkin = 3\n",
    "\n",
    "        pref_checkin.loc[member, restaurant] = checkin\n",
    "    \n",
    "    pref_checkin = np.array(pref_checkin); pref_sentiment = np.array(pref_sentiment)\n",
    "    return pref_checkin, pref_sentiment"
   ]
  },
  {
   "cell_type": "code",
   "execution_count": 6,
   "metadata": {
    "collapsed": true
   },
   "outputs": [],
   "source": [
    "pref_checkin, pref_sentiment = get_pref_mats(df)"
   ]
  },
  {
   "cell_type": "code",
   "execution_count": 7,
   "metadata": {
    "collapsed": false
   },
   "outputs": [
    {
     "name": "stdout",
     "output_type": "stream",
     "text": [
      "(1153, 852)\n"
     ]
    }
   ],
   "source": [
    "value1 = np.sign(pref_checkin - pref_sentiment)\n",
    "value2 = np.heaviside(np.abs(pref_checkin - pref_sentiment)-2, 0.5)\n",
    "pref_final = pref_checkin - np.sign(pref_checkin - pref_sentiment) * np.heaviside(np.abs(pref_checkin - pref_sentiment)-2, 0.5)\n",
    "print(pref_final.shape)"
   ]
  },
  {
   "cell_type": "code",
   "execution_count": 8,
   "metadata": {
    "collapsed": true
   },
   "outputs": [],
   "source": [
    "Z = 5; N, I = pref_final.shape"
   ]
  },
  {
   "cell_type": "code",
   "execution_count": 9,
   "metadata": {
    "collapsed": false
   },
   "outputs": [],
   "source": [
    "def get_UV(N, I, Z):\n",
    "    U = np.random.rand(N, Z)\n",
    "    V = np.random.rand(Z, I)\n",
    "    \n",
    "    return U, V"
   ]
  },
  {
   "cell_type": "code",
   "execution_count": 10,
   "metadata": {
    "collapsed": false
   },
   "outputs": [
    {
     "name": "stdout",
     "output_type": "stream",
     "text": [
      "(1153, 5)\n",
      "(5, 852)\n"
     ]
    }
   ],
   "source": [
    "U, V = get_UV(N, I, Z)\n",
    "print(U.shape)\n",
    "print(V.shape)"
   ]
  },
  {
   "cell_type": "code",
   "execution_count": 11,
   "metadata": {
    "collapsed": false
   },
   "outputs": [
    {
     "data": {
      "text/plain": [
       "(1153, 852)"
      ]
     },
     "execution_count": 11,
     "metadata": {},
     "output_type": "execute_result"
    }
   ],
   "source": [
    "pref_final.shape"
   ]
  },
  {
   "cell_type": "code",
   "execution_count": 13,
   "metadata": {
    "collapsed": false
   },
   "outputs": [],
   "source": [
    "coef = []\n",
    "for n in range(N):\n",
    "    temp = []\n",
    "    for i in range(N):\n",
    "        temp.append(pearsonr(pref_final[n], pref_final[i])[0])\n",
    "    coef.append(temp)\n",
    "    "
   ]
  },
  {
   "cell_type": "code",
   "execution_count": 16,
   "metadata": {
    "collapsed": false
   },
   "outputs": [
    {
     "name": "stdout",
     "output_type": "stream",
     "text": [
      "(1153, 1153)\n"
     ]
    }
   ],
   "source": [
    "coef = np.array(coef)\n",
    "print(coef.shape)"
   ]
  },
  {
   "cell_type": "code",
   "execution_count": 17,
   "metadata": {
    "collapsed": false
   },
   "outputs": [
    {
     "name": "stdout",
     "output_type": "stream",
     "text": [
      "1153\n"
     ]
    }
   ],
   "source": [
    "N, _ = pref_final.shape\n",
    "print(N)"
   ]
  },
  {
   "cell_type": "code",
   "execution_count": null,
   "metadata": {
    "collapsed": true
   },
   "outputs": [],
   "source": []
  },
  {
   "cell_type": "code",
   "execution_count": null,
   "metadata": {
    "collapsed": true
   },
   "outputs": [],
   "source": []
  }
 ],
 "metadata": {
  "kernelspec": {
   "display_name": "Python 3",
   "language": "python",
   "name": "python3"
  },
  "language_info": {
   "codemirror_mode": {
    "name": "ipython",
    "version": 3
   },
   "file_extension": ".py",
   "mimetype": "text/x-python",
   "name": "python",
   "nbconvert_exporter": "python",
   "pygments_lexer": "ipython3",
   "version": "3.6.0"
  }
 },
 "nbformat": 4,
 "nbformat_minor": 2
}
